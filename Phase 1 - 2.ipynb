{
 "cells": [
  {
   "cell_type": "code",
   "execution_count": null,
   "metadata": {},
   "outputs": [],
   "source": [
    "# @ts-nocheck\n",
    "# cspell:disable\n",
    "# ruff: noqa"
   ]
  },
  {
   "cell_type": "markdown",
   "metadata": {},
   "source": [
    "# **Library Imports & Initial Setup**\n",
    "#### Importing Liberaries"
   ]
  },
  {
   "cell_type": "code",
   "execution_count": null,
   "metadata": {},
   "outputs": [],
   "source": [
    "# Standard libraries\n",
    "import os\n",
    "import math\n",
    "import warnings\n",
    "\n",
    "# Data manipulation libraries\n",
    "import numpy as np\n",
    "import pandas as pd\n",
    "from scipy import stats\n",
    "from scipy.stats import chi2_contingency\n",
    "from scipy.stats.mstats import winsorize\n",
    "\n",
    "# Visualization libraries\n",
    "import matplotlib.pyplot as plt\n",
    "import matplotlib.gridspec as GridSpec\n",
    "from matplotlib.gridspec import GridSpec\n",
    "import seaborn as sns\n",
    "from IPython.display import display\n",
    "from tabulate import tabulate\n",
    "\n",
    "# Machine learning: preprocessing\n",
    "from sklearn.preprocessing import StandardScaler, OneHotEncoder, LabelEncoder\n",
    "from sklearn.compose import ColumnTransformer\n",
    "from sklearn.pipeline import Pipeline\n",
    "from sklearn.impute import SimpleImputer, KNNImputer\n",
    "from sklearn.model_selection import train_test_split, cross_val_score, StratifiedKFold\n",
    "\n",
    "# Machine learning: metrics\n",
    "from sklearn.metrics import (\n",
    "    accuracy_score, precision_score, recall_score, f1_score,\n",
    "    roc_auc_score, confusion_matrix, classification_report,\n",
    "    roc_curve, precision_recall_curve, auc\n",
    ")\n",
    "\n",
    "# Machine learning: models\n",
    "from sklearn.linear_model import LogisticRegression\n",
    "from sklearn.ensemble import RandomForestClassifier\n",
    "from sklearn.svm import SVC\n",
    "import xgboost as xgb\n",
    "from xgboost import XGBClassifier\n",
    "\n",
    "# Imbalanced learning\n",
    "from imblearn.over_sampling import SMOTE, ADASYN\n",
    "from imblearn.combine import SMOTETomek\n",
    "\n",
    "# Custom modules\n",
    "import import_ipynb\n",
    "from Setup import ( # type: ignore\n",
    "    Load_Dataset, visualization, df_info, df_unique_counts, display_metrics,\n",
    "    df_feature_importances, print_list, generate_subplots, gen_dist_plot_grp,\n",
    "    plot_roc_curves, plot_pr_curves, plot_metrics_comparison, plot_confusion_matrices\n",
    ")\n",
    "\n",
    "\n",
    "warnings.filterwarnings('ignore')"
   ]
  },
  {
   "cell_type": "code",
   "execution_count": null,
   "metadata": {},
   "outputs": [],
   "source": [
    "# I have defined all general styles of plots in a separate function, in a separate file (to keep code less repetitive and clean)\n",
    "visualization(fig_size=(10, 6))\n",
    "\n",
    "pd.set_option('display.max_colwidth', None)\n"
   ]
  },
  {
   "cell_type": "markdown",
   "metadata": {},
   "source": [
    "_____________________"
   ]
  },
  {
   "cell_type": "markdown",
   "metadata": {},
   "source": [
    "# **Phase 1 -** Data Understanding (Exploratory Data Analysis - EDA)\n",
    "#### Objective: Understand the dataset, distributions, and feature relationships."
   ]
  },
  {
   "cell_type": "markdown",
   "metadata": {},
   "source": [
    "## **Data Inspection & Summary Statistics**"
   ]
  },
  {
   "cell_type": "code",
   "execution_count": null,
   "metadata": {},
   "outputs": [],
   "source": [
    "df = Load_Dataset('Datasets\\Stroke_Dataset.parquet')"
   ]
  },
  {
   "cell_type": "code",
   "execution_count": null,
   "metadata": {},
   "outputs": [],
   "source": [
    "df.head(5)"
   ]
  },
  {
   "cell_type": "code",
   "execution_count": null,
   "metadata": {},
   "outputs": [],
   "source": [
    "df.tail(5)"
   ]
  },
  {
   "cell_type": "code",
   "execution_count": null,
   "metadata": {},
   "outputs": [],
   "source": [
    "# Get categorical and numerical features\n",
    "categorical_features = df.select_dtypes(include=['object', 'category']).columns.tolist()   # List containing columns of 'Object' datatype\n",
    "numerical_features = df.select_dtypes(include=['int64', 'float']).columns.tolist()      # Same as above, but for \"Int64\" datatype\n",
    "\n",
    "print(\"Columns with Numerical Data:\")\n",
    "print_list(numerical_features)\n",
    "\n",
    "print(\"\\nColumns with Categorical Data:\")\n",
    "print_list(categorical_features)"
   ]
  },
  {
   "cell_type": "code",
   "execution_count": null,
   "metadata": {},
   "outputs": [],
   "source": [
    "# Same as 'df.nunique()'\n",
    "df_unique_counts(df)"
   ]
  },
  {
   "cell_type": "code",
   "execution_count": null,
   "metadata": {},
   "outputs": [],
   "source": [
    "# Shows information of dataset ' df.info() '\n",
    "df_info(df)"
   ]
  },
  {
   "cell_type": "code",
   "execution_count": null,
   "metadata": {},
   "outputs": [],
   "source": [
    "# This will show all unique datatypes in dataset\n",
    "print(df.dtypes.value_counts())"
   ]
  },
  {
   "cell_type": "code",
   "execution_count": null,
   "metadata": {},
   "outputs": [],
   "source": [
    "print(\"Dataset's Basic Statices\")\n",
    "\n",
    "df.describe().T"
   ]
  },
  {
   "cell_type": "markdown",
   "metadata": {},
   "source": [
    "## **Data Visualization & Relationships**"
   ]
  },
  {
   "cell_type": "markdown",
   "metadata": {},
   "source": [
    "#### **Distribution Analysis:** Now, Lets take a look at how data is distributed in our Dataset"
   ]
  },
  {
   "cell_type": "markdown",
   "metadata": {},
   "source": [
    "- **Categorical Features**\n",
    "  - Bar plots for features with more categories\n",
    "  - Pie plots for features with fewer categories"
   ]
  },
  {
   "cell_type": "code",
   "execution_count": null,
   "metadata": {},
   "outputs": [],
   "source": [
    "# generate_subplots & gen_dist_plot_grp are defined in Setup File!"
   ]
  },
  {
   "cell_type": "code",
   "execution_count": null,
   "metadata": {},
   "outputs": [],
   "source": [
    "generate_subplots('pie', df, ['Gender', 'Smoking_Status', 'Residence_Type'], 3, fig_size=(15, 15))"
   ]
  },
  {
   "cell_type": "code",
   "execution_count": null,
   "metadata": {},
   "outputs": [],
   "source": [
    "generate_subplots('pie', df, ['Ever_Married', 'Stroke'], 3, fig_size=(20, 15))"
   ]
  },
  {
   "cell_type": "code",
   "execution_count": null,
   "metadata": {},
   "outputs": [],
   "source": [
    "generate_subplots('bar', df, ['Hypertension', 'Heart_Disease'], 1, fig_size=(15, 5))"
   ]
  },
  {
   "cell_type": "code",
   "execution_count": null,
   "metadata": {},
   "outputs": [],
   "source": [
    "generate_subplots('bar', df, ['Work_Type'], 1, fig_size=(25, 8))"
   ]
  },
  {
   "cell_type": "code",
   "execution_count": null,
   "metadata": {},
   "outputs": [],
   "source": [
    "# Run this block, if you want to see all the distributions\n",
    "\n",
    "# Don't get confused, I've just used loop directly in argument to get all features (& condition to exclude a few)\n",
    "generate_subplots('pie', df, [f for f in categorical_features if f not in ['Work_Type', 'Smoking_Status']], 3, fig_size=(15, 5))"
   ]
  },
  {
   "cell_type": "markdown",
   "metadata": {},
   "source": [
    "- **Numerical Features**\n",
    "  - Histograms\n",
    "  - Box Plots & Violin Plots\n",
    "  - Density Plots (KDE)"
   ]
  },
  {
   "cell_type": "code",
   "execution_count": null,
   "metadata": {},
   "outputs": [],
   "source": [
    "gen_dist_plot_grp(df, 'Age', 30, kde=True)"
   ]
  },
  {
   "cell_type": "code",
   "execution_count": null,
   "metadata": {},
   "outputs": [],
   "source": [
    "gen_dist_plot_grp(df, 'Avg_Glucose_Level', 25, kde=True)"
   ]
  },
  {
   "cell_type": "code",
   "execution_count": null,
   "metadata": {},
   "outputs": [],
   "source": [
    "gen_dist_plot_grp(df, 'BMI', 60, kde=True)"
   ]
  },
  {
   "cell_type": "markdown",
   "metadata": {},
   "source": [
    "#### **Feature Relationships:** Moving on, Lets take a look at Relationships between our features."
   ]
  },
  {
   "cell_type": "markdown",
   "metadata": {},
   "source": [
    "- **Relationship Analysis:**\n",
    "    - Scatter Plots to identify correlations, patterns, outliers, and clusters"
   ]
  },
  {
   "cell_type": "code",
   "execution_count": null,
   "metadata": {},
   "outputs": [],
   "source": [
    "def generate_scatterplot(Dataframe, X, Y, Hue, Palette={\"Yes\": \"blue\", \"No\": \"red\"}):\n",
    "    \n",
    "    sns.scatterplot(\n",
    "        data=Dataframe, \n",
    "        x=X, \n",
    "        y=Y,\n",
    "        hue=Hue,\n",
    "        palette=Palette,\n",
    "        alpha=0.6\n",
    "    )\n",
    "    plt.title(f\"{X} vs. {Y} (Colored by {Hue})\", fontsize=14)\n",
    "    plt.xlabel(f\"{X}\", fontsize=12)\n",
    "    plt.ylabel(f\"{Y}\", fontsize=12)\n",
    "    plt.legend(title=f\"{Hue}\")\n",
    "    plt.tight_layout()\n",
    "    plt.show()"
   ]
  },
  {
   "cell_type": "code",
   "execution_count": null,
   "metadata": {},
   "outputs": [],
   "source": [
    "# Age vs. Avg_Glucose_Level (colored by Stroke)\n",
    "\n",
    "generate_scatterplot(df, 'Age', 'Avg_Glucose_Level', 'Stroke')"
   ]
  },
  {
   "cell_type": "code",
   "execution_count": null,
   "metadata": {},
   "outputs": [],
   "source": [
    "# Age vs. BMI (colored by Stroke)\n",
    "\n",
    "generate_scatterplot(df, 'Age', 'BMI', 'Stroke')"
   ]
  },
  {
   "cell_type": "code",
   "execution_count": null,
   "metadata": {},
   "outputs": [],
   "source": [
    "# Avg. Glucose vs. BMI (colored by Heart Disease)\n",
    "\n",
    "generate_scatterplot(df,'Avg_Glucose_Level', 'BMI', 'Heart_Disease')"
   ]
  },
  {
   "cell_type": "code",
   "execution_count": null,
   "metadata": {},
   "outputs": [],
   "source": [
    "# This is PairPlot: Scatter matrix of Age, Glucose Level, BMI (colored by Stroke)\n",
    "\n",
    "features = ['Age', 'Avg_Glucose_Level', 'BMI']\n",
    "sns.pairplot(\n",
    "    df[features + ['Stroke']],\n",
    "    hue='Stroke',\n",
    "    palette={\"Yes\": \"blue\", \"No\": \"red\"},\n",
    "    diag_kind='kde',\n",
    "    plot_kws={'alpha': 0.5},\n",
    "    height=10\n",
    ")\n",
    "plt.suptitle(\"Scatter Matrix of Key Features\", y=1.02, fontsize=24)\n",
    "plt.tight_layout()\n",
    "plt.show()"
   ]
  },
  {
   "cell_type": "code",
   "execution_count": null,
   "metadata": {},
   "outputs": [],
   "source": [
    "# Age vs. Average Glucose Level (bubble size = BMI), colored by stroke outcome\n",
    "\n",
    "df_clean = df.dropna(subset=['BMI'])\n",
    "\n",
    "plt.figure(figsize=(20, 8))\n",
    "sns.scatterplot(\n",
    "    data=df_clean,\n",
    "    x=\"Age\",\n",
    "    y=\"Avg_Glucose_Level\",\n",
    "    size=\"BMI\",\n",
    "    hue=\"Stroke\",\n",
    "    palette={\"Yes\": \"blue\", \"No\": \"red\"},\n",
    "    sizes=(20, 200),\n",
    "    alpha=0.7\n",
    ")\n",
    "plt.title(\"Age vs. Average Glucose Level by Stroke Outcome (Bubble Size = BMI)\", fontsize=14)\n",
    "plt.xlabel(\"Age\", fontsize=12)\n",
    "plt.ylabel(\"Average Glucose Level\", fontsize=12)\n",
    "plt.legend(bbox_to_anchor=(1.05, 1), loc='upper left')\n",
    "plt.tight_layout()\n",
    "plt.show()"
   ]
  },
  {
   "cell_type": "markdown",
   "metadata": {},
   "source": [
    "- **Correlation Analysis**\n",
    "    - Heatmaps to visualize relationships between features"
   ]
  },
  {
   "cell_type": "code",
   "execution_count": null,
   "metadata": {},
   "outputs": [],
   "source": [
    "# Defining Correlation Analysis (for both categorical and numerical)\n",
    "\n",
    "def correlation_heatmap(df, target):\n",
    "    \n",
    "    df_encoded = df.copy()\n",
    "    \n",
    "    cat_columns = df.select_dtypes(include=['object']).columns\n",
    "    \n",
    "    # encode\n",
    "    encoder = LabelEncoder()\n",
    "    for col in cat_columns:\n",
    "        df_encoded[col] = encoder.fit_transform(df[col])\n",
    "    \n",
    "    # Calculate correlation with target\n",
    "    correlations = df_encoded.corr()[target].sort_values(ascending=False)\n",
    "    \n",
    "    return correlations, df_encoded"
   ]
  },
  {
   "cell_type": "code",
   "execution_count": null,
   "metadata": {},
   "outputs": [],
   "source": [
    "correlations, df_encoded = correlation_heatmap(df, 'Stroke')"
   ]
  },
  {
   "cell_type": "code",
   "execution_count": null,
   "metadata": {},
   "outputs": [],
   "source": [
    "correlation_matrix = df_encoded.corr()\n",
    "mask = np.zeros_like(correlation_matrix)\n",
    "mask[np.triu_indices_from(mask)] = True  # This will mask the upper triangle (so, it won't show up)\n",
    "\n",
    "# Correlation Heatmap\n",
    "plt.figure(figsize=(16, 12))\n",
    "sns.heatmap(correlation_matrix, mask=mask, cmap='coolwarm', annot=False, \n",
    "            center=0, linewidths=0.5)\n",
    "plt.title('Correlation Heatmap of Features')\n",
    "plt.tight_layout()\n",
    "plt.show()"
   ]
  },
  {
   "cell_type": "code",
   "execution_count": null,
   "metadata": {},
   "outputs": [],
   "source": [
    "# Focus on correlations with target\n",
    "top_corr_with_target = correlation_matrix['Stroke'].sort_values(ascending=False)\n",
    "plt.figure(figsize=(15, 10))\n",
    "sns.heatmap(correlation_matrix.loc[top_corr_with_target.index, top_corr_with_target.index], \n",
    "            annot=True, cmap='coolwarm', center=0, linewidths=0.5, fmt='.1f')\n",
    "plt.title('Correlation Heatmap (Ordered by Correlation with Stroke)')\n",
    "plt.tight_layout()\n",
    "plt.show()"
   ]
  },
  {
   "cell_type": "markdown",
   "metadata": {},
   "source": [
    "- **Comparative Analysis:**\n",
    "    - Comparing multiple metrics across different categories\n",
    "    - Displaying differences in outcomes based on multiple factors"
   ]
  },
  {
   "cell_type": "code",
   "execution_count": null,
   "metadata": {},
   "outputs": [],
   "source": [
    "# Multi-feature Analysis, Key features by Stroke outcome\n",
    "\n",
    "fig = plt.figure(figsize=(16, 12))\n",
    "gs = GridSpec(2, 2, figure=fig)\n",
    "\n",
    "# Average Glucose Level by Stroke outcome\n",
    "ax1 = fig.add_subplot(gs[0, 0])\n",
    "sns.boxplot(\n",
    "    data=df,\n",
    "    x=\"Stroke\",\n",
    "    y=\"Avg_Glucose_Level\",\n",
    "    ax=ax1,\n",
    "    palette=\"viridis\"\n",
    ")\n",
    "ax1.set_title(\"Average Glucose Level by Stroke Outcome\", fontsize=12)\n",
    "\n",
    "# Age distribution by Stroke outcome\n",
    "ax2 = fig.add_subplot(gs[0, 1])\n",
    "sns.boxplot(\n",
    "    data=df,\n",
    "    x=\"Stroke\",\n",
    "    y=\"Age\",\n",
    "    ax=ax2,\n",
    "    palette=\"viridis\"\n",
    ")\n",
    "ax2.set_title(\"Age Distribution by Stroke Outcome\", fontsize=12)\n",
    "\n",
    "# Stroke rate by Hypertension\n",
    "ax3 = fig.add_subplot(gs[1, 0])\n",
    "stroke_by_hypertension = df.groupby('Hypertension')['Stroke'].apply(\n",
    "    lambda x: (x == 'Yes').mean() * 100\n",
    ").reset_index()\n",
    "sns.barplot(\n",
    "    data=stroke_by_hypertension,\n",
    "    x=\"Hypertension\",\n",
    "    y=\"Stroke\",\n",
    "    ax=ax3,\n",
    "    palette=\"viridis\"\n",
    ")\n",
    "ax3.set_title(\"Stroke Rate (%) by Hypertension Status\", fontsize=12)\n",
    "ax3.set_ylabel(\"Stroke Rate (%)\")\n",
    "\n",
    "# BMI by Stroke outcome and Heart Disease status\n",
    "ax4 = fig.add_subplot(gs[1, 1])\n",
    "sns.boxplot(\n",
    "    data=df.dropna(subset=['BMI']),  # Handle missing BMI values (BMI has null values)\n",
    "    x=\"Stroke\",\n",
    "    y=\"BMI\",\n",
    "    hue=\"Heart_Disease\",\n",
    "    ax=ax4,\n",
    "    palette={\"Yes\": \"lightcoral\", \"No\": \"lightblue\"}\n",
    ")\n",
    "ax4.set_title(\"BMI by Stroke Outcome and Heart Disease Status\", fontsize=12)\n",
    "ax4.legend(title=\"Heart Disease\")\n",
    "\n",
    "plt.suptitle(\"Multi-feature Analysis for Stroke Prediction\", fontsize=16)\n",
    "plt.tight_layout()\n",
    "plt.subplots_adjust(top=0.93)\n",
    "plt.show()"
   ]
  },
  {
   "cell_type": "code",
   "execution_count": null,
   "metadata": {},
   "outputs": [],
   "source": [
    "# Stroke rates by residence type and work type\n",
    "\n",
    "plt.figure(figsize=(15, 6))\n",
    "stroke_by_residence_work = df.groupby(['Residence_Type', 'Work_Type'])['Stroke'].apply(\n",
    "    lambda x: (x == 'Yes').mean() * 100\n",
    ").reset_index()\n",
    "\n",
    "sns.barplot(\n",
    "    data=stroke_by_residence_work,\n",
    "    x=\"Residence_Type\",\n",
    "    y=\"Stroke\",\n",
    "    hue=\"Work_Type\"\n",
    ")\n",
    "plt.title(\"Stroke Rate by Residence Type and Work Type\", fontsize=14)\n",
    "plt.xlabel(\"Residence Type\", fontsize=12)\n",
    "plt.ylabel(\"Stroke Rate (%)\", fontsize=12)\n",
    "plt.legend(title=\"Work Type\")\n",
    "plt.tight_layout()\n",
    "plt.show()"
   ]
  },
  {
   "cell_type": "markdown",
   "metadata": {},
   "source": [
    "- **Association Analysis:**\n",
    "    - **Cramer's V** for visualizing the strength of associations between categorical variables\n",
    "    - **Random Forest** for feature importance analysis and visualization\n",
    "    - **Chi-Square** for target-relative feature importance analysis and visualization"
   ]
  },
  {
   "cell_type": "markdown",
   "metadata": {},
   "source": [
    "**Cramer's V:**"
   ]
  },
  {
   "cell_type": "code",
   "execution_count": null,
   "metadata": {},
   "outputs": [],
   "source": [
    "\n",
    "def cramers_v(x, y):\n",
    "    confusion_matrix = pd.crosstab(x, y)\n",
    "    chi2 = stats.chi2_contingency(confusion_matrix)[0]\n",
    "    n = confusion_matrix.sum().sum()\n",
    "    phi2 = chi2 / n\n",
    "    r, k = confusion_matrix.shape\n",
    "    phi2corr = max(0, phi2 - ((k-1)*(r-1))/(n-1))\n",
    "    rcorr = r - ((r-1)**2)/(n-1)\n",
    "    kcorr = k - ((k-1)**2)/(n-1)\n",
    "    \n",
    "    # This handles division by zero\n",
    "    denominator = min((kcorr-1), (rcorr-1))\n",
    "    if denominator == 0:\n",
    "        return 0\n",
    "    return np.sqrt(phi2corr / denominator)"
   ]
  },
  {
   "cell_type": "code",
   "execution_count": null,
   "metadata": {},
   "outputs": [],
   "source": [
    "def calculate_cramers_v(df, categorical_columns):\n",
    "    \n",
    "    corr_matrix = pd.DataFrame(index=categorical_columns, columns=categorical_columns)\n",
    "        \n",
    "    # Fill corr matrix\n",
    "    for i in categorical_columns:\n",
    "        for j in categorical_columns:\n",
    "            if i == j:\n",
    "                corr_matrix.loc[i, j] = 1.0\n",
    "            else:\n",
    "                corr_matrix.loc[i, j] = cramers_v(df[i], df[j])\n",
    "    \n",
    "    return corr_matrix.astype(float)  # Convert to float because we need it for heatmap"
   ]
  },
  {
   "cell_type": "code",
   "execution_count": null,
   "metadata": {},
   "outputs": [],
   "source": [
    "feature_associations = []\n",
    "\n",
    "# Calculate Cramer's V correlations\n",
    "cat_corr = calculate_cramers_v(df, categorical_features)\n",
    "\n",
    "# Get top associations\n",
    "flat_corr = [(i, j, cat_corr.loc[i, j]) for i in categorical_features for j in categorical_features if i != j]\n",
    "sorted_associations = sorted(flat_corr, key=lambda x: x[2], reverse=True)[:10]\n",
    "\n",
    "# Format and store the associations\n",
    "for i, j, v in sorted_associations:\n",
    "    feature_associations.append(f\"{i} - {j}: ({v:.4f})\")"
   ]
  },
  {
   "cell_type": "code",
   "execution_count": null,
   "metadata": {},
   "outputs": [],
   "source": [
    "print(\"Top 5 strongest associations:\")\n",
    "print_list(feature_associations)"
   ]
  },
  {
   "cell_type": "code",
   "execution_count": null,
   "metadata": {},
   "outputs": [],
   "source": [
    "plt.figure(figsize=(25, 15))\n",
    "sns.heatmap(cat_corr, annot=True, fmt='.1f', cmap='YlGnBu', vmin=0, vmax=1, linewidths=0.5, cbar_kws={'label': 'Cramér\\'s V'})\n",
    "plt.title(\"Categorical Variables Association (Cramér's V)\", fontsize=14)\n",
    "plt.xticks(rotation=45, ha='right')\n",
    "plt.tight_layout()\n",
    "plt.show()"
   ]
  },
  {
   "cell_type": "markdown",
   "metadata": {},
   "source": [
    "**Random Forest:**"
   ]
  },
  {
   "cell_type": "code",
   "execution_count": null,
   "metadata": {},
   "outputs": [],
   "source": [
    "# (It's just for quickly checking feature importance)\n",
    "\n",
    "df_clean = df.copy()\n",
    "\n",
    "df_clean = df_clean.drop(columns=['Patient_ID'])\n",
    "X = df_clean.drop(columns=['Stroke'])\n",
    "y = df_clean['Stroke']\n",
    "\n",
    "# Encode cat features\n",
    "X = X.apply(lambda col: LabelEncoder().fit_transform(col) if col.dtype == 'object' else col)\n",
    "\n",
    "# Train model\n",
    "model = RandomForestClassifier()\n",
    "model.fit(X, y)\n",
    "\n",
    "# Get feature importances\n",
    "importances = pd.DataFrame({'Feature': X.columns, 'Importance': model.feature_importances_})\n",
    "importances = importances.sort_values(by='Importance', ascending=False)\n",
    "\n",
    "del df_clean  # Free up memory (As we don't need it anymore)"
   ]
  },
  {
   "cell_type": "code",
   "execution_count": null,
   "metadata": {},
   "outputs": [],
   "source": [
    "plt.figure(figsize=(10, 5))\n",
    "sns.barplot(x='Importance', y='Feature', data=importances, palette='viridis')\n",
    "plt.xlabel(\"Importance Score\")\n",
    "plt.ylabel(\"Features\")\n",
    "plt.title(\"Feature Importance (RandomForest)\")\n",
    "plt.show()\n",
    "\n",
    "# Display feature importances\n",
    "df_feature_importances(importances)"
   ]
  },
  {
   "cell_type": "markdown",
   "metadata": {},
   "source": [
    "**Chi-Square:**"
   ]
  },
  {
   "cell_type": "code",
   "execution_count": null,
   "metadata": {},
   "outputs": [],
   "source": [
    "def chi_square_importance(df, target, categorical_features_list):\n",
    "    results = {'Feature': [], 'Chi-Square': [], 'P-Value': []}\n",
    "    \n",
    "    cat_features = categorical_features_list.copy()\n",
    "    cat_features.remove(target)  # Excluding 'Stroke' as it's our target variable\n",
    "\n",
    "    for feature in cat_features:\n",
    "        contingency = pd.crosstab(df[feature], df[target])\n",
    "        chi2, p, _, _ = chi2_contingency(contingency)\n",
    "        \n",
    "        results['Feature'].append(feature)\n",
    "        results['Chi-Square'].append(chi2)\n",
    "        results['P-Value'].append(p)\n",
    "    \n",
    "    results_df = pd.DataFrame(results)\n",
    "    results_df = results_df.sort_values('Chi-Square', ascending=False)\n",
    "    \n",
    "    return results_df"
   ]
  },
  {
   "cell_type": "code",
   "execution_count": null,
   "metadata": {},
   "outputs": [],
   "source": [
    "chi_results = chi_square_importance(df, 'Stroke', categorical_features)\n",
    "\n",
    "# Uncomment following to see all features (if you want to..)\n",
    "#chi_results.T"
   ]
  },
  {
   "cell_type": "code",
   "execution_count": null,
   "metadata": {},
   "outputs": [],
   "source": [
    "# Plot for Chi-Square scores\n",
    "sns.barplot(x=chi_results['Chi-Square'][:10], y=chi_results['Feature'][:10], palette='Blues_r') # [:10] means we'll be only showing top 10s\n",
    "plt.xlabel('Chi-Square Value')\n",
    "plt.ylabel('Feature')\n",
    "plt.title('Top 10 Categorical Features by Chi-Square Importance')\n",
    "plt.show()"
   ]
  },
  {
   "cell_type": "markdown",
   "metadata": {},
   "source": [
    "---"
   ]
  },
  {
   "cell_type": "markdown",
   "metadata": {},
   "source": [
    "## **Phase 2:** Data Preprocessing & Feature Engineering\n",
    "##### Objective: Prepare data by handling missing values, outliers, and inconsistencies."
   ]
  },
  {
   "cell_type": "markdown",
   "metadata": {},
   "source": [
    "### **Dataset Cleaning**"
   ]
  },
  {
   "cell_type": "code",
   "execution_count": null,
   "metadata": {},
   "outputs": [],
   "source": [
    "df.drop(columns=['Patient_ID'], inplace=True) # Removing this as we dont need this ones\n",
    "numerical_features.remove('Patient_ID')"
   ]
  },
  {
   "cell_type": "code",
   "execution_count": null,
   "metadata": {},
   "outputs": [],
   "source": [
    "df.drop(df[df['Gender'] == 'Other'].index, inplace=True) # There's only one entry, It wouldn't affact that much.."
   ]
  },
  {
   "cell_type": "code",
   "execution_count": null,
   "metadata": {},
   "outputs": [],
   "source": [
    "# Check for null values in each column\n",
    "null_counts = df.isnull().sum()\n",
    "columns_with_nulls = null_counts[null_counts > 0]  # This will only counts columns with null values\n",
    "total_nulls = null_counts.sum()\n",
    "\n",
    "if not columns_with_nulls.empty: print(\"Columns with null values:\\n\", columns_with_nulls)\n",
    "print(\"\\nTotal Null values in entire Dataset:\", total_nulls)\n",
    "print(\"Duplicated Rows in entire Dataset:\", df.duplicated().sum())\n"
   ]
  },
  {
   "cell_type": "markdown",
   "metadata": {},
   "source": [
    "- **Duplicates:** No duplicate rows were found in the dataset.  \n",
    "- **Handling Missing Values:**  \n",
    "  - **Approach:** K-Nearest Neighbors (KNN) Imputation\n",
    " \n"
   ]
  },
  {
   "cell_type": "code",
   "execution_count": null,
   "metadata": {},
   "outputs": [],
   "source": [
    "# KNN estimates missing values based on the nearest data points, I think it would be best if I use it here \n",
    "def KNN_Impute(df, target, correlate_features):\n",
    "\n",
    "    numeric_columns = correlate_features  # Selecting these because they may correlate with the target\n",
    "    imputer = KNNImputer(n_neighbors=5)\n",
    "\n",
    "    impute_data = df[numeric_columns].copy()\n",
    "\n",
    "    # Apply KNN imputation\n",
    "    imputed_values = imputer.fit_transform(impute_data)\n",
    "\n",
    "    # This updates target column with imputed values\n",
    "    idx = numeric_columns.index(target)\n",
    "    df[target] = imputed_values[:, idx]\n",
    "\n",
    "    return print(f\"{target} Imputation Done!\")"
   ]
  },
  {
   "cell_type": "code",
   "execution_count": null,
   "metadata": {},
   "outputs": [],
   "source": [
    "KNN_Impute(df, 'BMI', ['Age', 'Avg_Glucose_Level', 'BMI'])\n",
    "\n",
    "# To Verify imputation, Run code block (The one that checks for null values) again, (I'm too lazy to write code again..)"
   ]
  },
  {
   "cell_type": "markdown",
   "metadata": {},
   "source": [
    "- **Now, lets focus on Age:**\n",
    "    - Age is starting from 0, which is pretty unrealistic\n",
    "    - I'll use KNN Again"
   ]
  },
  {
   "cell_type": "code",
   "execution_count": null,
   "metadata": {},
   "outputs": [],
   "source": [
    "# First, Lets identify the problematic Age entries\n",
    "threshold = 10\n",
    "unrealistic_Age = df['Age'] < threshold\n",
    "print(f\"Unrealistic Age counts (Less then {threshold} Years): {unrealistic_Age.sum()}\")"
   ]
  },
  {
   "cell_type": "code",
   "execution_count": null,
   "metadata": {},
   "outputs": [],
   "source": [
    "# Removing these values\n",
    "\n",
    "df.loc[unrealistic_Age, 'Age'] = np.nan"
   ]
  },
  {
   "cell_type": "code",
   "execution_count": null,
   "metadata": {},
   "outputs": [],
   "source": [
    "KNN_Impute(df, 'Age', ['Age', 'Avg_Glucose_Level', 'BMI'])\n",
    "\n",
    "# (You know what to do next...)"
   ]
  },
  {
   "cell_type": "markdown",
   "metadata": {},
   "source": [
    "### **Outlier Detection & Cleaning**"
   ]
  },
  {
   "cell_type": "markdown",
   "metadata": {},
   "source": [
    "- For Detecting Outliers, we will use:\n",
    "    - IQR Method\n",
    "    - Z-Score Method"
   ]
  },
  {
   "cell_type": "markdown",
   "metadata": {},
   "source": [
    "**Z-Score Method**:"
   ]
  },
  {
   "cell_type": "code",
   "execution_count": null,
   "metadata": {},
   "outputs": [],
   "source": [
    "def z_score_outliers(df, column, threshold=3):\n",
    "    z_scores = stats.zscore(df[column])\n",
    "    outlier_indices = np.where(np.abs(z_scores) > threshold)[0]\n",
    "    outlier_values = df.loc[outlier_indices, column].values\n",
    "    return {\n",
    "        'column': column,\n",
    "        'method': 'Z-Score',\n",
    "        'threshold': threshold,\n",
    "        'outlier_count': len(outlier_indices),\n",
    "        'outlier_percentage': (len(outlier_indices) / len(df)) * 100,\n",
    "        'outlier_indices': outlier_indices,\n",
    "        'outlier_values': outlier_values\n",
    "    }"
   ]
  },
  {
   "cell_type": "code",
   "execution_count": null,
   "metadata": {},
   "outputs": [],
   "source": [
    "# This will create a summary DataFrame of Z-score outliers\n",
    "def z_score_summary_table(df, numerical_features, threshold=3):\n",
    "\n",
    "    results = []\n",
    "    \n",
    "    for column in numerical_features:\n",
    "        outlier_info = z_score_outliers(df, column, threshold)\n",
    "        \n",
    "        column_stats = {\n",
    "            'Feature': column,\n",
    "            'Min': df[column].min(),\n",
    "            'Max': df[column].max(),\n",
    "            'Lower Threshold': df[column].mean() - threshold * df[column].std(),\n",
    "            'Upper Threshold': df[column].mean() + threshold * df[column].std(),\n",
    "            'Outliers Count': outlier_info['outlier_count'],\n",
    "            'Outliers (%)': round(outlier_info['outlier_percentage'], 2),\n",
    "            'Range Impact': 'High' if outlier_info['outlier_percentage'] > 5 else 'Medium' if outlier_info['outlier_percentage'] > 1 else 'Low'\n",
    "        }\n",
    "        \n",
    "        results.append(column_stats)\n",
    "    \n",
    "    \n",
    "    summary_df = pd.DataFrame(results)\n",
    "    summary_df = summary_df.sort_values('Outliers (%)', ascending=False)\n",
    "    \n",
    "    # Format the numeric columns (rounding values)\n",
    "    for col in ['Min', 'Max', 'Lower Threshold', 'Upper Threshold']:\n",
    "        summary_df[col] = summary_df[col].round(2)\n",
    "\n",
    "    return summary_df"
   ]
  },
  {
   "cell_type": "code",
   "execution_count": null,
   "metadata": {},
   "outputs": [],
   "source": [
    "z_score_summary = z_score_summary_table(df, numerical_features)\n",
    "\n",
    "z_score_summary"
   ]
  },
  {
   "cell_type": "markdown",
   "metadata": {},
   "source": [
    "**IQR Method:**"
   ]
  },
  {
   "cell_type": "code",
   "execution_count": null,
   "metadata": {},
   "outputs": [],
   "source": [
    "def iqr_outliers(df, column, multiplier=1.5):\n",
    "    Q1 = df[column].quantile(0.25)\n",
    "    Q3 = df[column].quantile(0.75)\n",
    "    IQR = Q3 - Q1\n",
    "    lower_bound = Q1 - multiplier * IQR\n",
    "    upper_bound = Q3 + multiplier * IQR\n",
    "    \n",
    "    outlier_mask = (df[column] < lower_bound) | (df[column] > upper_bound)\n",
    "    outlier_indices = np.where(outlier_mask)[0]\n",
    "    outlier_values = df.loc[outlier_indices, column].values\n",
    "    \n",
    "    return {\n",
    "        'column': column,\n",
    "        'method': 'IQR',\n",
    "        'multiplier': multiplier,\n",
    "        'Q1': Q1,\n",
    "        'Q3': Q3,\n",
    "        'IQR': IQR,\n",
    "        'lower_bound': lower_bound,\n",
    "        'upper_bound': upper_bound,\n",
    "        'outlier_count': len(outlier_indices),\n",
    "        'outlier_percentage': (len(outlier_indices) / len(df)) * 100,\n",
    "        'outlier_indices': outlier_indices,\n",
    "        'outlier_values': outlier_values\n",
    "    }"
   ]
  },
  {
   "cell_type": "code",
   "execution_count": null,
   "metadata": {},
   "outputs": [],
   "source": [
    "# This code is almost same as Z-Score..\n",
    "\n",
    "def iqr_summary_table(df, numerical_features, multiplier=1.5):\n",
    "    \n",
    "    results = []\n",
    "    \n",
    "    for column in numerical_features:\n",
    "        outlier_info = iqr_outliers(df, column, multiplier)\n",
    "        \n",
    "        column_stats = {\n",
    "            'Feature': column,\n",
    "            'Min': df[column].min(),\n",
    "            'Max': df[column].max(),\n",
    "            'Q1': outlier_info['Q1'],\n",
    "            'Q3': outlier_info['Q3'],\n",
    "            'IQR': outlier_info['IQR'],\n",
    "            'Lower Bound': outlier_info['lower_bound'],\n",
    "            'Upper Bound': outlier_info['upper_bound'],\n",
    "            'Outliers Count': outlier_info['outlier_count'],\n",
    "            'Outliers (%)': round(outlier_info['outlier_percentage'], 2),\n",
    "            'Range Impact': 'High' if outlier_info['outlier_percentage'] > 5 else 'Medium' if outlier_info['outlier_percentage'] > 1 else 'Low'\n",
    "        }\n",
    "        \n",
    "        results.append(column_stats)\n",
    "    \n",
    "    summary_df = pd.DataFrame(results)\n",
    "    summary_df = summary_df.sort_values('Outliers (%)', ascending=False)\n",
    "    \n",
    "    for col in ['Min', 'Max', 'Q1', 'Q3', 'IQR', 'Lower Bound', 'Upper Bound']:\n",
    "        summary_df[col] = summary_df[col].round(2)\n",
    "\n",
    "    return summary_df"
   ]
  },
  {
   "cell_type": "code",
   "execution_count": null,
   "metadata": {},
   "outputs": [],
   "source": [
    "iqr_summary = iqr_summary_table(df, numerical_features)\n",
    "\n",
    "# Display Df\n",
    "iqr_summary"
   ]
  },
  {
   "cell_type": "markdown",
   "metadata": {},
   "source": [
    "### **Handling Outliers**"
   ]
  },
  {
   "cell_type": "markdown",
   "metadata": {},
   "source": [
    "- To Handle Outliers, We'll Use:\n",
    "    - Winsorization"
   ]
  },
  {
   "cell_type": "code",
   "execution_count": null,
   "metadata": {},
   "outputs": [],
   "source": [
    "# Define lower and upper bounds for capping\n",
    "glucose_lower, glucose_upper = 21.98, 169.35 # (correct IQR calculation was 169.36)\n",
    "bmi_lower, bmi_upper = 9.75, 46.95\n",
    "\n",
    "# Applying Winsorization\n",
    "df['Avg_Glucose_Level'] = df['Avg_Glucose_Level'].clip(lower=glucose_lower, upper=glucose_upper)\n",
    "df['BMI'] = df['BMI'].clip(lower=bmi_lower, upper=bmi_upper)\n",
    "\n",
    "# Verify the changes, just run Z-Score & IQR again.."
   ]
  },
  {
   "cell_type": "markdown",
   "metadata": {},
   "source": [
    "---"
   ]
  },
  {
   "cell_type": "markdown",
   "metadata": {},
   "source": [
    "### **Feature Engineering**"
   ]
  },
  {
   "cell_type": "markdown",
   "metadata": {},
   "source": [
    "- We will use:\n",
    "    - Data Type Conversion\n",
    "    - Categorical Encoding\n",
    "    - Feature Creation & Transformation\n",
    "    - Pipeline Execution"
   ]
  },
  {
   "cell_type": "code",
   "execution_count": null,
   "metadata": {},
   "outputs": [],
   "source": [
    "# Lets quickly check our lists one last time\n",
    "\n",
    "print(\"Columns with Numerical Data:\")\n",
    "print_list(numerical_features)\n",
    "\n",
    "print(\"\\nColumns with Categorical Data:\")\n",
    "print_list(categorical_features)"
   ]
  },
  {
   "cell_type": "markdown",
   "metadata": {},
   "source": [
    "**Data Type Conversion:**"
   ]
  },
  {
   "cell_type": "code",
   "execution_count": null,
   "metadata": {},
   "outputs": [],
   "source": [
    "# Data Type Conversion, Convert features to appropriate data types.\n",
    "def convert_data_types(df, numerical_features_list, categorical_features_list):\n",
    "    \n",
    "    processed_df = df.copy()\n",
    "    num_features = numerical_features_list\n",
    "    cat_features = categorical_features_list\n",
    "\n",
    "    # Convert numerical features to numeric type\n",
    "    processed_df[num_features] = processed_df[num_features].apply(pd.to_numeric)\n",
    "    \n",
    "    # Convert categorical features to category type (Objects etc)\n",
    "    processed_df[cat_features] = processed_df[cat_features].astype('category')\n",
    "    \n",
    "    return processed_df"
   ]
  },
  {
   "cell_type": "markdown",
   "metadata": {},
   "source": [
    "**Categorical Encoding:**"
   ]
  },
  {
   "cell_type": "code",
   "execution_count": null,
   "metadata": {},
   "outputs": [],
   "source": [
    "def encode_categorical_features(df):\n",
    "    \n",
    "    processed_df = df.copy()\n",
    "\n",
    "\n",
    "    # Convert binary categorical variables to 0/1\n",
    "    \n",
    "    # Yes/No mapping\n",
    "    yes_no_features = ['Hypertension', 'Heart_Disease', 'Ever_Married', 'Stroke']\n",
    "    \n",
    "    for feature in yes_no_features:\n",
    "        processed_df[f'{feature}_Binary'] = processed_df[feature].map({\n",
    "            'Yes': 1, \n",
    "            'No': 0\n",
    "            }).astype(int)\n",
    "    \n",
    "    # Mapping\n",
    "    processed_df['Gender_Binary'] = processed_df['Gender'].map({\n",
    "        'Male': 0, 'Female': 1}).astype(int)\n",
    "    \n",
    "    processed_df['Residence_Type_Binary'] = processed_df['Residence_Type'].map({\n",
    "        'Urban': 0, 'Rural': 1}).astype(int)\n",
    "    \n",
    "    \n",
    "\n",
    "    # One-hot encode nominal categorical variables\n",
    "    nominal_features = ['Work_Type', 'Smoking_Status']\n",
    "    \n",
    "    processed_df = pd.get_dummies(processed_df, columns=nominal_features, \n",
    "                                drop_first=False, prefix_sep='_')\n",
    "    \n",
    "    return processed_df"
   ]
  },
  {
   "cell_type": "markdown",
   "metadata": {},
   "source": [
    "**Feature Creation & Transformation:**"
   ]
  },
  {
   "cell_type": "code",
   "execution_count": null,
   "metadata": {},
   "outputs": [],
   "source": [
    "def engineer_features(df):\n",
    "\n",
    "    processed_df = df.copy()\n",
    "    \n",
    "    # Create age groups\n",
    "    age_bins = [0, 45, 60, 75, 100]\n",
    "    age_labels = ['<45', '45-60', '61-75', '>75']\n",
    "    processed_df['Age_Group'] = pd.cut(processed_df['Age'], bins=age_bins, labels=age_labels)\n",
    "    processed_df['Age_Group'] = processed_df['Age_Group'].astype('category')\n",
    "    \n",
    "    # BMI categories\n",
    "    bmi_bins = [0, 18.5, 25, 30, 100]\n",
    "    bmi_labels = ['Underweight', 'Normal', 'Overweight', 'Obese']\n",
    "    processed_df['BMI_Category'] = pd.cut(processed_df['BMI'], \n",
    "                                         bins=bmi_bins, labels=bmi_labels)\n",
    "    processed_df['BMI_Category'] = processed_df['BMI_Category'].astype('category')\n",
    "    \n",
    "    # Create glucose level categories\n",
    "    glucose_bins = [0, 100, 126, 300]\n",
    "    glucose_labels = ['Normal', 'Prediabetic', 'Diabetic']\n",
    "    processed_df['Glucose_Category'] = pd.cut(processed_df['Avg_Glucose_Level'], \n",
    "                                            bins=glucose_bins, labels=glucose_labels)\n",
    "    processed_df['Glucose_Category'] = processed_df['Glucose_Category'].astype('category')\n",
    "    \n",
    "    # Derived risk variables\n",
    "    processed_df['Cardiovascular_Risk'] = (\n",
    "        processed_df['Hypertension_Binary'] + \n",
    "        processed_df['Heart_Disease_Binary']\n",
    "    )\n",
    "    \n",
    "    processed_df['Metabolic_Risk'] = (\n",
    "        (processed_df['BMI'] > 30).astype(int) + \n",
    "        (processed_df['Avg_Glucose_Level'] > 126).astype(int)\n",
    "    )\n",
    "    \n",
    "    # Creating some more features\n",
    "    processed_df['Age_Hypertension'] = processed_df['Age'] * processed_df['Hypertension_Binary']\n",
    "    processed_df['BMI_Glucose'] = processed_df['BMI'] * (processed_df['Avg_Glucose_Level']/100)\n",
    "    processed_df['Age_Heart'] = processed_df['Age'] * processed_df['Heart_Disease_Binary']\n",
    "    \n",
    "    processed_df['Vascular_Risk'] = (\n",
    "        (processed_df['Age'] > 60).astype(int) + \n",
    "        processed_df['Hypertension_Binary'] +\n",
    "        (processed_df['Avg_Glucose_Level'] > 110).astype(int)\n",
    "    )\n",
    "    \n",
    "    # Lets, create lifestyle risk indicator\n",
    "    smoking_risk = 0\n",
    "    if 'Smoking_Status_formerly smoked' in processed_df.columns:\n",
    "        smoking_risk += processed_df['Smoking_Status_formerly smoked']\n",
    "    if 'Smoking_Status_smokes' in processed_df.columns:\n",
    "        smoking_risk += 2 * processed_df['Smoking_Status_smokes']  # This weight current smoking more (+= 2)\n",
    "        \n",
    "    processed_df['Lifestyle_Risk'] = (\n",
    "        smoking_risk + \n",
    "        (processed_df['BMI'] > 25).astype(int)\n",
    "    )\n",
    "    \n",
    "    # One-hot encode the categorical groups (Newely created ones)\n",
    "    group_features = ['Age_Group', 'BMI_Category', 'Glucose_Category']\n",
    "    processed_df = pd.get_dummies(processed_df, columns=group_features, \n",
    "                                drop_first=False, prefix_sep='_')\n",
    "    \n",
    "    return processed_df"
   ]
  },
  {
   "cell_type": "markdown",
   "metadata": {},
   "source": [
    "**Pipeline Execution:**"
   ]
  },
  {
   "cell_type": "code",
   "execution_count": null,
   "metadata": {},
   "outputs": [],
   "source": [
    "# Get categorical and numerical features\n",
    "categorical_features = df.select_dtypes(include=['object', 'category']).columns.tolist()\n",
    "numerical_features = df.select_dtypes(include=['int64', 'float']).columns.tolist()\n",
    "\n",
    "print(\"Columns with Numerical Data:\")\n",
    "print_list(numerical_features)\n",
    "\n",
    "print(\"\\nColumns with Categorical Data:\")\n",
    "print_list(categorical_features)\n",
    "\n",
    "print(\"\\nColumns Info:\")\n",
    "df_info(df)"
   ]
  },
  {
   "cell_type": "code",
   "execution_count": null,
   "metadata": {},
   "outputs": [],
   "source": [
    "def preprocess_stroke_data(df, numerical_features, categorical_features):\n",
    "    \n",
    "    # Now, lets apply each  step sequentially\n",
    "    df_typed = convert_data_types(df, numerical_features, categorical_features)\n",
    "    df_encoded = encode_categorical_features(df_typed)\n",
    "    df_processed = engineer_features(df_encoded)\n",
    "    \n",
    "    return df_processed"
   ]
  },
  {
   "cell_type": "code",
   "execution_count": null,
   "metadata": {},
   "outputs": [],
   "source": [
    "# Process...\n",
    "processed_data = preprocess_stroke_data(df, numerical_features, categorical_features)"
   ]
  },
  {
   "cell_type": "code",
   "execution_count": null,
   "metadata": {},
   "outputs": [],
   "source": [
    "df_info(processed_data)"
   ]
  },
  {
   "cell_type": "code",
   "execution_count": null,
   "metadata": {},
   "outputs": [],
   "source": [
    "# Save as a Parquet file\n",
    "processed_data.to_parquet(\"Datasets\\\\Processed_Stroke_Dataset.parquet\", index=False)"
   ]
  },
  {
   "cell_type": "markdown",
   "metadata": {},
   "source": [
    "___\n",
    "---"
   ]
  }
 ],
 "metadata": {
  "kernelspec": {
   "display_name": ".venv",
   "language": "python",
   "name": "python3"
  },
  "language_info": {
   "codemirror_mode": {
    "name": "ipython",
    "version": 3
   },
   "file_extension": ".py",
   "mimetype": "text/x-python",
   "name": "python",
   "nbconvert_exporter": "python",
   "pygments_lexer": "ipython3",
   "version": "3.13.1"
  }
 },
 "nbformat": 4,
 "nbformat_minor": 2
}
