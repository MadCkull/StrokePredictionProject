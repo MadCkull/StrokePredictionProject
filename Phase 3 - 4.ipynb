{
 "cells": [
  {
   "cell_type": "code",
   "execution_count": null,
   "metadata": {},
   "outputs": [],
   "source": [
    "# @ts-nocheck\n",
    "# cspell:disable\n",
    "# ruff: noqa"
   ]
  },
  {
   "cell_type": "markdown",
   "metadata": {},
   "source": [
    "# **Library Imports & Initial Setup**\n",
    "#### Importing Liberaries"
   ]
  },
  {
   "cell_type": "code",
   "execution_count": null,
   "metadata": {},
   "outputs": [],
   "source": [
    "# Standard libraries\n",
    "import os\n",
    "import math\n",
    "import warnings\n",
    "\n",
    "# Data manipulation libraries\n",
    "import numpy as np\n",
    "import pandas as pd\n",
    "\n",
    "# Visualization libraries\n",
    "import matplotlib.pyplot as plt\n",
    "import seaborn as sns\n",
    "\n",
    "# Machine learning: preprocessing\n",
    "from sklearn.preprocessing import StandardScaler\n",
    "from sklearn.model_selection import train_test_split, StratifiedKFold\n",
    "\n",
    "# Machine learning: metrics\n",
    "from sklearn.metrics import (\n",
    "    accuracy_score, precision_score, recall_score, f1_score,\n",
    "    roc_auc_score, confusion_matrix, precision_recall_curve, auc\n",
    ")\n",
    "\n",
    "# Machine learning: models\n",
    "from sklearn.linear_model import LogisticRegression\n",
    "from sklearn.ensemble import RandomForestClassifier\n",
    "from sklearn.svm import SVC\n",
    "import xgboost as xgb\n",
    "from xgboost import XGBClassifier\n",
    "\n",
    "# Imbalanced learning\n",
    "from imblearn.over_sampling import SMOTE, ADASYN\n",
    "from imblearn.combine import SMOTETomek\n",
    "\n",
    "# Custom modules\n",
    "import import_ipynb\n",
    "from Setup import ( # type: ignore\n",
    "    Load_Dataset, visualization, display_metrics,plot_roc_curves, \n",
    "    plot_pr_curves, plot_metrics_comparison, plot_confusion_matrices\n",
    ")\n",
    "\n",
    "\n",
    "warnings.filterwarnings('ignore')"
   ]
  },
  {
   "cell_type": "code",
   "execution_count": null,
   "metadata": {},
   "outputs": [],
   "source": [
    "# I have defined all general styles of plots in a separate function, in a separate file (to keep code less repetitive and clean)\n",
    "visualization(fig_size=(10, 6))\n",
    "\n",
    "pd.set_option('display.max_colwidth', None)\n"
   ]
  },
  {
   "cell_type": "markdown",
   "metadata": {},
   "source": [
    "_____________________"
   ]
  },
  {
   "cell_type": "markdown",
   "metadata": {},
   "source": [
    "## **Phase 3:** Model Development & Evaluation\n",
    "##### Objective: Prepare data for M.L then develope and evalute the Machine Learning Models."
   ]
  },
  {
   "cell_type": "markdown",
   "metadata": {},
   "source": [
    "**Data Preparation:**"
   ]
  },
  {
   "cell_type": "code",
   "execution_count": null,
   "metadata": {},
   "outputs": [],
   "source": [
    "# This loads dataset from parquet file (In case we need it 😁)\n",
    "processed_data = Load_Dataset('Datasets\\Processed_Stroke_Dataset.parquet')"
   ]
  },
  {
   "cell_type": "code",
   "execution_count": null,
   "metadata": {},
   "outputs": [],
   "source": [
    "processed_data.head(3)"
   ]
  },
  {
   "cell_type": "code",
   "execution_count": null,
   "metadata": {},
   "outputs": [],
   "source": [
    "def prepare_for_ml(processed_df, primary_target='Stroke_Binary', test_size=0.2, random_state=42):\n",
    "    \n",
    "    # Identify features by patterns\n",
    "    binary_features = [col for col in processed_df.columns if col.endswith('_Binary')]\n",
    "    \n",
    "    onehot_features = [col for col in processed_df.columns \n",
    "                      if ('Work_Type_' in col or 'Smoking_Status_' in col \n",
    "                         or 'Age_Group_' in col or 'BMI_Category_' in col\n",
    "                         or 'Glucose_Category_' in col)]\n",
    "    \n",
    "    derived_features = ['Cardiovascular_Risk', 'Metabolic_Risk', 'Vascular_Risk', \n",
    "                       'Lifestyle_Risk', 'Age_Hypertension', 'BMI_Glucose', 'Age_Heart']\n",
    "    \n",
    "    # Combine all..\n",
    "    keep_features = binary_features + onehot_features + derived_features\n",
    "    \n",
    "    \n",
    "    keep_features.remove(primary_target)\n",
    "    \n",
    "    # Extract target and features to x, y\n",
    "    y = processed_df[primary_target].copy()\n",
    "    X = processed_df[keep_features].copy()\n",
    "    \n",
    "    # Split data\n",
    "    X_train, X_test, y_train, y_test = train_test_split(\n",
    "        X, y, test_size=test_size, random_state=random_state, stratify=y\n",
    "    )\n",
    "    \n",
    "    X_train_scaled = X_train.copy()\n",
    "    X_test_scaled = X_test.copy()\n",
    "    \n",
    "    # Scale numerical features\n",
    "    num_features = X_train.select_dtypes(include=['int64', 'float64']).columns.tolist()\n",
    "    scaler = StandardScaler()\n",
    "    \n",
    "    X_train_scaled[num_features] = scaler.fit_transform(X_train[num_features])\n",
    "    X_test_scaled[num_features] = scaler.transform(X_test[num_features])\n",
    "    \n",
    "    return X_train_scaled, X_test_scaled, y_train, y_test, scaler"
   ]
  },
  {
   "cell_type": "code",
   "execution_count": null,
   "metadata": {},
   "outputs": [],
   "source": [
    "# Prepare... (This one is important, I'll be using this in later parts)\n",
    "X_train, X_test, y_train, y_test, scaler = prepare_for_ml(processed_data, primary_target='Stroke_Binary')"
   ]
  },
  {
   "cell_type": "markdown",
   "metadata": {},
   "source": [
    "**Pre-Modeling Checks:**"
   ]
  },
  {
   "cell_type": "code",
   "execution_count": null,
   "metadata": {},
   "outputs": [],
   "source": [
    "# Quick feature importance check using Random Forest\n",
    "\n",
    "# Train a simple model\n",
    "rf = RandomForestClassifier(n_estimators=100, random_state=42)\n",
    "rf.fit(X_train, y_train)\n",
    "\n",
    "# Get feature importances\n",
    "importances = rf.feature_importances_\n",
    "indices = np.argsort(importances)[::-1]\n",
    "\n",
    "# Print top 10 features\n",
    "print(\"Top 10 most important features:\")\n",
    "for i in range(min(10, X_train.shape[1])):\n",
    "    print(f\"{i+1}. {X_train.columns[indices[i]]}: {importances[indices[i]]:.4f}\")"
   ]
  },
  {
   "cell_type": "code",
   "execution_count": null,
   "metadata": {},
   "outputs": [],
   "source": [
    "# Define cross-validation strategy\n",
    "cv = StratifiedKFold(n_splits=5, shuffle=True, random_state=42)\n",
    "\n",
    "\n",
    "# Initialize metrics storage\n",
    "cv_scores = {\n",
    "    'accuracy': [],\n",
    "    'roc_auc': []\n",
    "}\n",
    "\n",
    "# Simple model for testing CV\n",
    "model = LogisticRegression(max_iter=1000)\n",
    "\n",
    "# Perform cross-validation\n",
    "for train_idx, val_idx in cv.split(X_train, y_train):\n",
    "    # Split data\n",
    "    X_cv_train, X_cv_val = X_train.iloc[train_idx], X_train.iloc[val_idx]\n",
    "    y_cv_train, y_cv_val = y_train.iloc[train_idx], y_train.iloc[val_idx]\n",
    "    \n",
    "    # Train model\n",
    "    model.fit(X_cv_train, y_cv_train)\n",
    "    \n",
    "    # Evaluate\n",
    "    y_pred = model.predict(X_cv_val)\n",
    "    y_pred_proba = model.predict_proba(X_cv_val)[:, 1]\n",
    "    \n",
    "    # Store metrics\n",
    "    cv_scores['accuracy'].append(accuracy_score(y_cv_val, y_pred))\n",
    "    cv_scores['roc_auc'].append(roc_auc_score(y_cv_val, y_pred_proba))\n",
    "\n",
    "# Print results\n",
    "print(f\"Cross-validation results (5-fold):\")\n",
    "print(f\"Accuracy: {np.mean(cv_scores['accuracy']):.4f} ± {np.std(cv_scores['accuracy']):.4f}\")\n",
    "print(f\"ROC-AUC: {np.mean(cv_scores['roc_auc']):.4f} ± {np.std(cv_scores['roc_auc']):.4f}\")"
   ]
  },
  {
   "cell_type": "code",
   "execution_count": null,
   "metadata": {},
   "outputs": [],
   "source": [
    "# Check correlation among features\n",
    "correlation_matrix = X_train.corr()\n",
    "plt.figure(figsize=(12, 10))\n",
    "sns.heatmap(correlation_matrix, annot=False, cmap='coolwarm')\n",
    "plt.title('Feature Correlation Matrix')\n",
    "plt.show()"
   ]
  },
  {
   "cell_type": "markdown",
   "metadata": {},
   "source": [
    "---"
   ]
  },
  {
   "cell_type": "markdown",
   "metadata": {},
   "source": [
    "## **Model Development**"
   ]
  },
  {
   "cell_type": "markdown",
   "metadata": {},
   "source": [
    "### **Initial Setup**"
   ]
  },
  {
   "cell_type": "markdown",
   "metadata": {},
   "source": [
    "#### **Feature Selection Functions**"
   ]
  },
  {
   "cell_type": "code",
   "execution_count": null,
   "metadata": {},
   "outputs": [],
   "source": [
    "# Use all features for comprehensive analysis\n",
    "\n",
    "def select_all_features(X_train, X_test):\n",
    "    print(f\"Using all {X_train.shape[1]} features\")\n",
    "    return X_train, X_test, X_train.columns.tolist()"
   ]
  },
  {
   "cell_type": "code",
   "execution_count": null,
   "metadata": {},
   "outputs": [],
   "source": [
    "# Select clinically relevant features for stroke prediction\n",
    "\n",
    "def select_clinical_features(X_train, X_test):\n",
    "    clinical_features = [\n",
    "        # Core features\n",
    "        'Age_Hypertension', 'Age_Heart', 'BMI_Glucose',\n",
    "        \n",
    "        # Binary ones..\n",
    "        'Gender_Binary', 'Hypertension_Binary', 'Heart_Disease_Binary',\n",
    "        'Ever_Married_Binary', \n",
    "        \n",
    "        # Risk scores and derived features (That I created Earlier)\n",
    "        'Cardiovascular_Risk', 'Metabolic_Risk', 'Vascular_Risk', 'Lifestyle_Risk'\n",
    "    ]\n",
    "    \n",
    "    available_features = [f for f in clinical_features if f in X_train.columns]\n",
    "    print(f\"Selected {len(available_features)} clinical features\")\n",
    "    \n",
    "    return X_train[available_features], X_test[available_features], available_features"
   ]
  },
  {
   "cell_type": "markdown",
   "metadata": {},
   "source": [
    "#### **Class Balancing Functions**\n",
    " There's Serve class imbalance, Lets first define different approaches to handle this"
   ]
  },
  {
   "cell_type": "markdown",
   "metadata": {},
   "source": [
    "**SMOTE:**"
   ]
  },
  {
   "cell_type": "code",
   "execution_count": null,
   "metadata": {},
   "outputs": [],
   "source": [
    "def balance_with_smote(X_train, y_train, random_state=42):\n",
    "    smote = SMOTE(random_state=random_state)\n",
    "    X_train_balanced, y_train_balanced = smote.fit_resample(X_train, y_train)\n",
    "    print(f\"Original class distribution: {np.bincount(y_train)}\")\n",
    "    print(f\"SMOTE class distribution: {np.bincount(y_train_balanced)}\")\n",
    "    return X_train_balanced, y_train_balanced"
   ]
  },
  {
   "cell_type": "markdown",
   "metadata": {},
   "source": [
    "**ADASYN:**"
   ]
  },
  {
   "cell_type": "code",
   "execution_count": null,
   "metadata": {},
   "outputs": [],
   "source": [
    "def balance_with_adasyn(X_train, y_train, random_state=42):\n",
    "    adasyn = ADASYN(random_state=random_state)\n",
    "    X_train_balanced, y_train_balanced = adasyn.fit_resample(X_train, y_train)\n",
    "    print(f\"Original class distribution: {np.bincount(y_train)}\")\n",
    "    print(f\"ADASYN class distribution: {np.bincount(y_train_balanced)}\")\n",
    "    return X_train_balanced, y_train_balanced"
   ]
  },
  {
   "cell_type": "markdown",
   "metadata": {},
   "source": [
    "**SMOTETomek**"
   ]
  },
  {
   "cell_type": "code",
   "execution_count": null,
   "metadata": {},
   "outputs": [],
   "source": [
    "# This combines over and undersampling..\n",
    "\n",
    "def balance_with_smotetomek(X_train, y_train, random_state=42):\n",
    "    smotetomek = SMOTETomek(random_state=random_state)\n",
    "    X_train_balanced, y_train_balanced = smotetomek.fit_resample(X_train, y_train)\n",
    "    print(f\"Original class distribution: {np.bincount(y_train)}\")\n",
    "    print(f\"SMOTETomek class distribution: {np.bincount(y_train_balanced)}\")\n",
    "    return X_train_balanced, y_train_balanced"
   ]
  },
  {
   "cell_type": "markdown",
   "metadata": {},
   "source": [
    "### **Models Definations**"
   ]
  },
  {
   "cell_type": "markdown",
   "metadata": {},
   "source": [
    "**- Logistic Regression:**"
   ]
  },
  {
   "cell_type": "code",
   "execution_count": null,
   "metadata": {},
   "outputs": [],
   "source": [
    "def train_logistic_regression(X_train, y_train, C=0.1, class_weight='balanced', random_state=42):\n",
    "\n",
    "    model = LogisticRegression(\n",
    "        C=C,\n",
    "        penalty='l2',\n",
    "        solver='liblinear',\n",
    "        max_iter=2000,\n",
    "        class_weight=class_weight,\n",
    "        random_state=random_state\n",
    "    )\n",
    "    model.fit(X_train, y_train)\n",
    "    return model"
   ]
  },
  {
   "cell_type": "markdown",
   "metadata": {},
   "source": [
    "**- Random Forest:**"
   ]
  },
  {
   "cell_type": "code",
   "execution_count": null,
   "metadata": {},
   "outputs": [],
   "source": [
    "def train_random_forest(X_train, y_train, n_estimators=100, max_depth=None, \n",
    "                        class_weight='balanced', random_state=42):\n",
    "\n",
    "    model = RandomForestClassifier(\n",
    "        n_estimators=n_estimators,\n",
    "        max_depth=max_depth,\n",
    "        class_weight=class_weight,\n",
    "        random_state=random_state,\n",
    "        n_jobs=-1\n",
    "    )\n",
    "    model.fit(X_train, y_train)\n",
    "    return model"
   ]
  },
  {
   "cell_type": "markdown",
   "metadata": {},
   "source": [
    "**- XGBoost:**"
   ]
  },
  {
   "cell_type": "code",
   "execution_count": null,
   "metadata": {},
   "outputs": [],
   "source": [
    "def train_xgboost(X_train, y_train, learning_rate=0.1, max_depth=6, \n",
    "                  scale_pos_weight=None, random_state=42):\n",
    "\n",
    "    if scale_pos_weight is None:\n",
    "        # Calculate imbalance ratio if not provided\n",
    "        scale_pos_weight = (y_train == 0).sum() / (y_train == 1).sum()\n",
    "    \n",
    "    model = XGBClassifier(\n",
    "        learning_rate=learning_rate,\n",
    "        max_depth=max_depth,\n",
    "        scale_pos_weight=scale_pos_weight,\n",
    "        random_state=random_state,\n",
    "        use_label_encoder=False,\n",
    "        eval_metric='logloss'\n",
    "    )\n",
    "    model.fit(X_train, y_train)\n",
    "    return model"
   ]
  },
  {
   "cell_type": "markdown",
   "metadata": {},
   "source": [
    "**- SVM**"
   ]
  },
  {
   "cell_type": "code",
   "execution_count": null,
   "metadata": {},
   "outputs": [],
   "source": [
    "def train_svm(X_train, y_train, C=1.0, kernel='rbf', class_weight='balanced', random_state=42):\n",
    "\n",
    "    model = SVC(\n",
    "        C=C,\n",
    "        kernel=kernel,\n",
    "        probability=True,\n",
    "        class_weight=class_weight,\n",
    "        random_state=random_state\n",
    "    )\n",
    "    model.fit(X_train, y_train)\n",
    "    return model"
   ]
  },
  {
   "cell_type": "markdown",
   "metadata": {},
   "source": [
    "### **Model Evaluation**"
   ]
  },
  {
   "cell_type": "code",
   "execution_count": null,
   "metadata": {},
   "outputs": [],
   "source": [
    "# This function just displays results of a model\n",
    "\n",
    "def evaluate_model(model, X_test, y_test, model_name=\"Model\"):\n",
    "    \n",
    "    # Get predictions\n",
    "    y_pred = model.predict(X_test)\n",
    "    y_pred_proba = model.predict_proba(X_test)[:, 1]\n",
    "    \n",
    "    # Calculate core metrics (look in list)\n",
    "    metrics = {\n",
    "        'Accuracy': accuracy_score(y_test, y_pred),\n",
    "        'Precision': precision_score(y_test, y_pred),\n",
    "        'Recall': recall_score(y_test, y_pred),\n",
    "        'Specificity': recall_score(y_test, y_pred, pos_label=0),\n",
    "        'F1 Score': f1_score(y_test, y_pred),\n",
    "        'ROC_AUC': roc_auc_score(y_test, y_pred_proba)\n",
    "    }\n",
    "    \n",
    "    # Calculate PR-AUC (Precision-Recall AUC)\n",
    "    precision, recall, _ = precision_recall_curve(y_test, y_pred_proba)\n",
    "    metrics['PR_AUC'] = auc(recall, precision)\n",
    "    \n",
    "    # Confusion Matrix\n",
    "    cm = confusion_matrix(y_test, y_pred)\n",
    "    \n",
    "    # Display results using the helper functions (If you're curious, it's defined in setup file)\n",
    "    display_metrics(metrics, model_name)\n",
    "    \n",
    "    return metrics, y_pred, y_pred_proba, cm"
   ]
  },
  {
   "cell_type": "markdown",
   "metadata": {},
   "source": [
    "### **Pipleline Handling**"
   ]
  },
  {
   "cell_type": "code",
   "execution_count": null,
   "metadata": {},
   "outputs": [],
   "source": [
    "# This is the main function, we'll be using this to easily train all models etc\n",
    "\n",
    "def run_model_pipeline(X_train, y_train, X_test, y_test, \n",
    "                       feature_selection='clinical', \n",
    "                       balancing_method='smote', \n",
    "                       model_type='logistic', \n",
    "                       random_state=42):\n",
    "    \n",
    "    # Select features\n",
    "    if feature_selection == 'clinical':\n",
    "        X_train_selected, X_test_selected, selected_features = select_clinical_features(X_train, X_test)\n",
    "    else:\n",
    "        X_train_selected, X_test_selected, selected_features = select_all_features(X_train, X_test)\n",
    "    \n",
    "    # Balance classes\n",
    "    if balancing_method == 'smote':\n",
    "        X_train_balanced, y_train_balanced = balance_with_smote(X_train_selected, y_train, random_state)\n",
    "    elif balancing_method == 'adasyn':\n",
    "        X_train_balanced, y_train_balanced = balance_with_adasyn(X_train_selected, y_train, random_state)\n",
    "    elif balancing_method == 'smotetomek':\n",
    "        X_train_balanced, y_train_balanced = balance_with_smotetomek(X_train_selected, y_train, random_state)\n",
    "    else:\n",
    "        X_train_balanced, y_train_balanced = X_train_selected, y_train\n",
    "        print(\"No balancing applied\")\n",
    "    \n",
    "    model_name = ''\n",
    "\n",
    "    # Train model\n",
    "    if model_type == 'logistic':\n",
    "        model = train_logistic_regression(X_train_balanced, y_train_balanced, random_state=random_state)\n",
    "        model_name = 'Logistic Resgrssion'\n",
    "        \n",
    "    elif model_type == 'random_forest':\n",
    "        model = train_random_forest(X_train_balanced, y_train_balanced, random_state=random_state)\n",
    "        model_name = 'Random Forest'\n",
    "        \n",
    "    elif model_type == 'xgboost':\n",
    "        model = train_xgboost(X_train_balanced, y_train_balanced, random_state=random_state)\n",
    "        model_name = 'XGBoost'\n",
    "        \n",
    "    elif model_type == 'svm':\n",
    "        model = train_svm(X_train_balanced, y_train_balanced, random_state=random_state)\n",
    "        model_name = 'SVM'\n",
    "    \n",
    "    # Evaluate model\n",
    "    metrics, y_pred, y_pred_proba, cm = evaluate_model(model, X_test_selected, y_test, f\"{model_name}\")\n",
    "    \n",
    "    \n",
    "    # Return results\n",
    "    results = {\n",
    "        'metrics': metrics,\n",
    "        'probabilities': y_pred_proba,\n",
    "        'confusion_matrix': cm,\n",
    "    }\n",
    "    \n",
    "    return results"
   ]
  },
  {
   "cell_type": "code",
   "execution_count": null,
   "metadata": {},
   "outputs": [],
   "source": [
    "# I'm just writing this for refrence, No need to run it, as we have already executed this previously\n",
    "\n",
    "# X_train, X_test, y_train, y_test, scaler = prepare_for_ml(processed_data, primary_target='Stroke_Binary')"
   ]
  },
  {
   "cell_type": "markdown",
   "metadata": {},
   "source": [
    "### **Model Training**"
   ]
  },
  {
   "cell_type": "markdown",
   "metadata": {},
   "source": [
    "**- Logistic Regression:**"
   ]
  },
  {
   "cell_type": "code",
   "execution_count": null,
   "metadata": {},
   "outputs": [],
   "source": [
    "logistic_results = run_model_pipeline(X_train, y_train, X_test, y_test, \n",
    "                       feature_selection='all', \n",
    "                       balancing_method='smote', \n",
    "                       model_type='logistic', \n",
    "                       random_state=74)"
   ]
  },
  {
   "cell_type": "markdown",
   "metadata": {},
   "source": [
    "**- Random Forest:**"
   ]
  },
  {
   "cell_type": "code",
   "execution_count": null,
   "metadata": {},
   "outputs": [],
   "source": [
    "random_forest_results = run_model_pipeline(X_train, y_train, X_test, y_test, \n",
    "                       feature_selection='all', \n",
    "                       balancing_method='adasyn', \n",
    "                       model_type='random_forest', \n",
    "                       random_state=42)"
   ]
  },
  {
   "cell_type": "markdown",
   "metadata": {},
   "source": [
    "**- XGBoost:**"
   ]
  },
  {
   "cell_type": "code",
   "execution_count": null,
   "metadata": {},
   "outputs": [],
   "source": [
    "xgboost_results = run_model_pipeline(X_train, y_train, X_test, y_test, \n",
    "                       feature_selection='clinical', \n",
    "                       balancing_method='none', \n",
    "                       model_type='xgboost', \n",
    "                       random_state=42)"
   ]
  },
  {
   "cell_type": "markdown",
   "metadata": {},
   "source": [
    "**- SVM:**"
   ]
  },
  {
   "cell_type": "code",
   "execution_count": null,
   "metadata": {},
   "outputs": [],
   "source": [
    "svm_results = run_model_pipeline(X_train, y_train, X_test, y_test, \n",
    "                       feature_selection='all', \n",
    "                       balancing_method='smotetomek', \n",
    "                       model_type='svm', \n",
    "                       random_state=42)"
   ]
  },
  {
   "cell_type": "code",
   "execution_count": null,
   "metadata": {},
   "outputs": [],
   "source": [
    "# I'll use this in Performance Analysis\n",
    "\n",
    "model_results = {\n",
    "    'Logistic Regression': logistic_results,\n",
    "    'Random Forest': random_forest_results,\n",
    "    'XGBoost': xgboost_results,\n",
    "    'SVM': svm_results\n",
    "}"
   ]
  },
  {
   "cell_type": "code",
   "execution_count": null,
   "metadata": {},
   "outputs": [],
   "source": [
    "model_results"
   ]
  },
  {
   "cell_type": "markdown",
   "metadata": {},
   "source": [
    "---"
   ]
  },
  {
   "cell_type": "markdown",
   "metadata": {},
   "source": [
    "## **Phase 4:**  **Performance Analysis**"
   ]
  },
  {
   "cell_type": "markdown",
   "metadata": {},
   "source": [
    "**ROC Curves:**"
   ]
  },
  {
   "cell_type": "code",
   "execution_count": null,
   "metadata": {},
   "outputs": [],
   "source": [
    "plot_roc_curves(y_test, model_results)"
   ]
  },
  {
   "cell_type": "markdown",
   "metadata": {},
   "source": [
    "**Precision-Recall Curves:**"
   ]
  },
  {
   "cell_type": "code",
   "execution_count": null,
   "metadata": {},
   "outputs": [],
   "source": [
    "plot_pr_curves(y_test, model_results)"
   ]
  },
  {
   "cell_type": "markdown",
   "metadata": {},
   "source": [
    "**Metric Comparisons:**"
   ]
  },
  {
   "cell_type": "code",
   "execution_count": null,
   "metadata": {},
   "outputs": [],
   "source": [
    "plot_metrics_comparison(model_results)"
   ]
  },
  {
   "cell_type": "markdown",
   "metadata": {},
   "source": [
    "**Confusion Matrices:**"
   ]
  },
  {
   "cell_type": "code",
   "execution_count": null,
   "metadata": {},
   "outputs": [],
   "source": [
    "plot_confusion_matrices(model_results)"
   ]
  }
 ],
 "metadata": {
  "kernelspec": {
   "display_name": ".venv",
   "language": "python",
   "name": "python3"
  },
  "language_info": {
   "codemirror_mode": {
    "name": "ipython",
    "version": 3
   },
   "file_extension": ".py",
   "mimetype": "text/x-python",
   "name": "python",
   "nbconvert_exporter": "python",
   "pygments_lexer": "ipython3",
   "version": "3.13.1"
  }
 },
 "nbformat": 4,
 "nbformat_minor": 2
}
