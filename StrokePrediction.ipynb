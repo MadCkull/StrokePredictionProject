{
 "cells": [
  {
   "cell_type": "code",
   "execution_count": null,
   "metadata": {},
   "outputs": [],
   "source": [
    "# @ts-nocheck\n",
    "# cspell:disable\n",
    "# ruff: noqa"
   ]
  },
  {
   "cell_type": "markdown",
   "metadata": {},
   "source": [
    "# **Library Imports & Initial Setup**\n",
    "#### Importing Liberaries"
   ]
  },
  {
   "cell_type": "code",
   "execution_count": 1,
   "metadata": {},
   "outputs": [],
   "source": [
    "# Standard libraries\n",
    "import os\n",
    "import math\n",
    "import warnings\n",
    "\n",
    "# Data manipulation libraries\n",
    "import numpy as np\n",
    "import pandas as pd\n",
    "from scipy import stats\n",
    "from scipy.stats import chi2_contingency\n",
    "from scipy.stats.mstats import winsorize\n",
    "\n",
    "# Visualization libraries\n",
    "import matplotlib.pyplot as plt\n",
    "import matplotlib.gridspec as GridSpec\n",
    "from matplotlib.gridspec import GridSpec\n",
    "import seaborn as sns\n",
    "from IPython.display import display\n",
    "from tabulate import tabulate\n",
    "\n",
    "# Machine learning: preprocessing\n",
    "from sklearn.preprocessing import StandardScaler, OneHotEncoder, LabelEncoder\n",
    "from sklearn.compose import ColumnTransformer\n",
    "from sklearn.pipeline import Pipeline\n",
    "from sklearn.impute import SimpleImputer, KNNImputer\n",
    "from sklearn.model_selection import train_test_split, cross_val_score, StratifiedKFold\n",
    "\n",
    "# Machine learning: metrics\n",
    "from sklearn.metrics import (\n",
    "    accuracy_score, precision_score, recall_score, f1_score,\n",
    "    roc_auc_score, confusion_matrix, classification_report,\n",
    "    roc_curve, precision_recall_curve, auc\n",
    ")\n",
    "\n",
    "# Machine learning: models\n",
    "from sklearn.linear_model import LogisticRegression\n",
    "from sklearn.ensemble import RandomForestClassifier\n",
    "from sklearn.svm import SVC\n",
    "import xgboost as xgb\n",
    "from xgboost import XGBClassifier\n",
    "\n",
    "# Imbalanced learning\n",
    "from imblearn.over_sampling import SMOTE, ADASYN\n",
    "from imblearn.combine import SMOTETomek\n",
    "\n",
    "# Custom modules\n",
    "import import_ipynb\n",
    "from Setup import ( # type: ignore\n",
    "    Load_Dataset, visualization, df_info, df_unique_counts, display_metrics,\n",
    "    df_feature_importances, print_list, generate_subplots, gen_dist_plot_grp,\n",
    "    plot_roc_curves, plot_pr_curves, plot_metrics_comparison, plot_confusion_matrices\n",
    ")\n",
    "\n",
    "\n",
    "warnings.filterwarnings('ignore')"
   ]
  },
  {
   "cell_type": "code",
   "execution_count": null,
   "metadata": {},
   "outputs": [],
   "source": [
    "# I have defined all general styles of plots in a separate function, in a separate file (to keep code less repetitive and clean)\n",
    "visualization(fig_size=(10, 6))\n",
    "\n",
    "pd.set_option('display.max_colwidth', None)\n"
   ]
  },
  {
   "cell_type": "markdown",
   "metadata": {},
   "source": [
    "_____________________"
   ]
  },
  {
   "cell_type": "markdown",
   "metadata": {},
   "source": [
    "# **Phase 1 -** Data Understanding (Exploratory Data Analysis - EDA)\n",
    "#### Objective: Understand the dataset, distributions, and feature relationships."
   ]
  },
  {
   "cell_type": "markdown",
   "metadata": {},
   "source": [
    "## **Data Inspection & Summary Statistics**"
   ]
  },
  {
   "cell_type": "code",
   "execution_count": null,
   "metadata": {},
   "outputs": [],
   "source": [
    "df = Load_Dataset('Datasets\\Stroke_Dataset.parquet')"
   ]
  },
  {
   "cell_type": "code",
   "execution_count": null,
   "metadata": {},
   "outputs": [],
   "source": [
    "df.head(5)"
   ]
  },
  {
   "cell_type": "code",
   "execution_count": null,
   "metadata": {},
   "outputs": [],
   "source": [
    "df.tail(5)"
   ]
  },
  {
   "cell_type": "code",
   "execution_count": null,
   "metadata": {},
   "outputs": [],
   "source": [
    "# Get categorical and numerical features\n",
    "categorical_features = df.select_dtypes(include=['object', 'category']).columns.tolist()   # List containing columns of 'Object' datatype\n",
    "numerical_features = df.select_dtypes(include=['int64', 'float']).columns.tolist()      # Same as above, but for \"Int64\" datatype\n",
    "\n",
    "print(\"Columns with Numerical Data:\")\n",
    "print_list(numerical_features)\n",
    "\n",
    "print(\"\\nColumns with Categorical Data:\")\n",
    "print_list(categorical_features)"
   ]
  },
  {
   "cell_type": "code",
   "execution_count": null,
   "metadata": {},
   "outputs": [],
   "source": [
    "# Same as 'df.nunique()'\n",
    "df_unique_counts(df)"
   ]
  },
  {
   "cell_type": "code",
   "execution_count": null,
   "metadata": {},
   "outputs": [],
   "source": [
    "# Shows information of dataset ' df.info() '\n",
    "df_info(df)"
   ]
  },
  {
   "cell_type": "code",
   "execution_count": null,
   "metadata": {},
   "outputs": [],
   "source": [
    "# This will show all unique datatypes in dataset\n",
    "print(df.dtypes.value_counts())"
   ]
  },
  {
   "cell_type": "code",
   "execution_count": null,
   "metadata": {},
   "outputs": [],
   "source": [
    "print(\"Dataset's Basic Statices\")\n",
    "\n",
    "df.describe().T"
   ]
  },
  {
   "cell_type": "markdown",
   "metadata": {},
   "source": [
    "## **Data Visualization & Relationships**"
   ]
  },
  {
   "cell_type": "markdown",
   "metadata": {},
   "source": [
    "#### **Distribution Analysis:** Now, Lets take a look at how data is distributed in our Dataset"
   ]
  },
  {
   "cell_type": "markdown",
   "metadata": {},
   "source": [
    "- **Categorical Features**\n",
    "  - Bar plots for features with more categories\n",
    "  - Pie plots for features with fewer categories"
   ]
  },
  {
   "cell_type": "code",
   "execution_count": null,
   "metadata": {},
   "outputs": [],
   "source": [
    "# generate_subplots & gen_dist_plot_grp are defined in Setup File!"
   ]
  },
  {
   "cell_type": "code",
   "execution_count": null,
   "metadata": {},
   "outputs": [],
   "source": [
    "generate_subplots('pie', df, ['Gender', 'Smoking_Status', 'Residence_Type'], 3, fig_size=(15, 15))"
   ]
  },
  {
   "cell_type": "code",
   "execution_count": null,
   "metadata": {},
   "outputs": [],
   "source": [
    "generate_subplots('pie', df, ['Ever_Married', 'Stroke'], 3, fig_size=(20, 15))"
   ]
  },
  {
   "cell_type": "code",
   "execution_count": null,
   "metadata": {},
   "outputs": [],
   "source": [
    "generate_subplots('bar', df, ['Hypertension', 'Heart_Disease'], 1, fig_size=(15, 5))"
   ]
  },
  {
   "cell_type": "code",
   "execution_count": null,
   "metadata": {},
   "outputs": [],
   "source": [
    "generate_subplots('bar', df, ['Work_Type'], 1, fig_size=(25, 8))"
   ]
  },
  {
   "cell_type": "code",
   "execution_count": null,
   "metadata": {},
   "outputs": [],
   "source": [
    "# Run this block, if you want to see all the distributions\n",
    "\n",
    "# Don't get confused, I've just used loop directly in argument to get all features (& condition to exclude a few)\n",
    "generate_subplots('pie', df, [f for f in categorical_features if f not in ['Work_Type', 'Smoking_Status']], 3, fig_size=(15, 5))"
   ]
  },
  {
   "cell_type": "markdown",
   "metadata": {},
   "source": [
    "- **Numerical Features**\n",
    "  - Histograms\n",
    "  - Box Plots & Violin Plots\n",
    "  - Density Plots (KDE)"
   ]
  },
  {
   "cell_type": "code",
   "execution_count": null,
   "metadata": {},
   "outputs": [],
   "source": [
    "gen_dist_plot_grp(df, 'Age', 30, kde=True)"
   ]
  },
  {
   "cell_type": "code",
   "execution_count": null,
   "metadata": {},
   "outputs": [],
   "source": [
    "gen_dist_plot_grp(df, 'Avg_Glucose_Level', 25, kde=True)"
   ]
  },
  {
   "cell_type": "code",
   "execution_count": null,
   "metadata": {},
   "outputs": [],
   "source": [
    "gen_dist_plot_grp(df, 'BMI', 60, kde=True)"
   ]
  },
  {
   "cell_type": "markdown",
   "metadata": {},
   "source": [
    "#### **Feature Relationships:** Moving on, Lets take a look at Relationships between our features."
   ]
  },
  {
   "cell_type": "markdown",
   "metadata": {},
   "source": [
    "- **Relationship Analysis:**\n",
    "    - Scatter Plots to identify correlations, patterns, outliers, and clusters"
   ]
  },
  {
   "cell_type": "code",
   "execution_count": null,
   "metadata": {},
   "outputs": [],
   "source": [
    "def generate_scatterplot(Dataframe, X, Y, Hue, Palette={\"Yes\": \"blue\", \"No\": \"red\"}):\n",
    "    \n",
    "    sns.scatterplot(\n",
    "        data=Dataframe, \n",
    "        x=X, \n",
    "        y=Y,\n",
    "        hue=Hue,\n",
    "        palette=Palette,\n",
    "        alpha=0.6\n",
    "    )\n",
    "    plt.title(f\"{X} vs. {Y} (Colored by {Hue})\", fontsize=14)\n",
    "    plt.xlabel(f\"{X}\", fontsize=12)\n",
    "    plt.ylabel(f\"{Y}\", fontsize=12)\n",
    "    plt.legend(title=f\"{Hue}\")\n",
    "    plt.tight_layout()\n",
    "    plt.show()"
   ]
  },
  {
   "cell_type": "code",
   "execution_count": null,
   "metadata": {},
   "outputs": [],
   "source": [
    "# Age vs. Avg_Glucose_Level (colored by Stroke)\n",
    "\n",
    "generate_scatterplot(df, 'Age', 'Avg_Glucose_Level', 'Stroke')"
   ]
  },
  {
   "cell_type": "code",
   "execution_count": null,
   "metadata": {},
   "outputs": [],
   "source": [
    "# Age vs. BMI (colored by Stroke)\n",
    "\n",
    "generate_scatterplot(df, 'Age', 'BMI', 'Stroke')"
   ]
  },
  {
   "cell_type": "code",
   "execution_count": null,
   "metadata": {},
   "outputs": [],
   "source": [
    "# Avg. Glucose vs. BMI (colored by Heart Disease)\n",
    "\n",
    "generate_scatterplot(df,'Avg_Glucose_Level', 'BMI', 'Heart_Disease')"
   ]
  },
  {
   "cell_type": "code",
   "execution_count": null,
   "metadata": {},
   "outputs": [],
   "source": [
    "# This is PairPlot: Scatter matrix of Age, Glucose Level, BMI (colored by Stroke)\n",
    "\n",
    "features = ['Age', 'Avg_Glucose_Level', 'BMI']\n",
    "sns.pairplot(\n",
    "    df[features + ['Stroke']],\n",
    "    hue='Stroke',\n",
    "    palette={\"Yes\": \"blue\", \"No\": \"red\"},\n",
    "    diag_kind='kde',\n",
    "    plot_kws={'alpha': 0.5},\n",
    "    height=10\n",
    ")\n",
    "plt.suptitle(\"Scatter Matrix of Key Features\", y=1.02, fontsize=24)\n",
    "plt.tight_layout()\n",
    "plt.show()"
   ]
  },
  {
   "cell_type": "code",
   "execution_count": null,
   "metadata": {},
   "outputs": [],
   "source": [
    "# Age vs. Average Glucose Level (bubble size = BMI), colored by stroke outcome\n",
    "\n",
    "df_clean = df.dropna(subset=['BMI'])\n",
    "\n",
    "plt.figure(figsize=(20, 8))\n",
    "sns.scatterplot(\n",
    "    data=df_clean,\n",
    "    x=\"Age\",\n",
    "    y=\"Avg_Glucose_Level\",\n",
    "    size=\"BMI\",\n",
    "    hue=\"Stroke\",\n",
    "    palette={\"Yes\": \"blue\", \"No\": \"red\"},\n",
    "    sizes=(20, 200),\n",
    "    alpha=0.7\n",
    ")\n",
    "plt.title(\"Age vs. Average Glucose Level by Stroke Outcome (Bubble Size = BMI)\", fontsize=14)\n",
    "plt.xlabel(\"Age\", fontsize=12)\n",
    "plt.ylabel(\"Average Glucose Level\", fontsize=12)\n",
    "plt.legend(bbox_to_anchor=(1.05, 1), loc='upper left')\n",
    "plt.tight_layout()\n",
    "plt.show()"
   ]
  },
  {
   "cell_type": "markdown",
   "metadata": {},
   "source": [
    "- **Correlation Analysis**\n",
    "    - Heatmaps to visualize relationships between features"
   ]
  },
  {
   "cell_type": "code",
   "execution_count": null,
   "metadata": {},
   "outputs": [],
   "source": [
    "# Defining Correlation Analysis (for both categorical and numerical)\n",
    "\n",
    "def correlation_heatmap(df, target):\n",
    "    \n",
    "    df_encoded = df.copy()\n",
    "    \n",
    "    cat_columns = df.select_dtypes(include=['object']).columns\n",
    "    \n",
    "    # encode\n",
    "    encoder = LabelEncoder()\n",
    "    for col in cat_columns:\n",
    "        df_encoded[col] = encoder.fit_transform(df[col])\n",
    "    \n",
    "    # Calculate correlation with target\n",
    "    correlations = df_encoded.corr()[target].sort_values(ascending=False)\n",
    "    \n",
    "    return correlations, df_encoded"
   ]
  },
  {
   "cell_type": "code",
   "execution_count": null,
   "metadata": {},
   "outputs": [],
   "source": [
    "correlations, df_encoded = correlation_heatmap(df, 'Stroke')"
   ]
  },
  {
   "cell_type": "code",
   "execution_count": null,
   "metadata": {},
   "outputs": [],
   "source": [
    "correlation_matrix = df_encoded.corr()\n",
    "mask = np.zeros_like(correlation_matrix)\n",
    "mask[np.triu_indices_from(mask)] = True  # This will mask the upper triangle (so, it won't show up)\n",
    "\n",
    "# Correlation Heatmap\n",
    "plt.figure(figsize=(16, 12))\n",
    "sns.heatmap(correlation_matrix, mask=mask, cmap='coolwarm', annot=False, \n",
    "            center=0, linewidths=0.5)\n",
    "plt.title('Correlation Heatmap of Features')\n",
    "plt.tight_layout()\n",
    "plt.show()"
   ]
  },
  {
   "cell_type": "code",
   "execution_count": null,
   "metadata": {},
   "outputs": [],
   "source": [
    "# Focus on correlations with target\n",
    "top_corr_with_target = correlation_matrix['Stroke'].sort_values(ascending=False)\n",
    "plt.figure(figsize=(15, 10))\n",
    "sns.heatmap(correlation_matrix.loc[top_corr_with_target.index, top_corr_with_target.index], \n",
    "            annot=True, cmap='coolwarm', center=0, linewidths=0.5, fmt='.1f')\n",
    "plt.title('Correlation Heatmap (Ordered by Correlation with Stroke)')\n",
    "plt.tight_layout()\n",
    "plt.show()"
   ]
  },
  {
   "cell_type": "markdown",
   "metadata": {},
   "source": [
    "- **Comparative Analysis:**\n",
    "    - Comparing multiple metrics across different categories\n",
    "    - Displaying differences in outcomes based on multiple factors"
   ]
  },
  {
   "cell_type": "code",
   "execution_count": null,
   "metadata": {},
   "outputs": [],
   "source": [
    "# Multi-feature Analysis, Key features by Stroke outcome\n",
    "\n",
    "fig = plt.figure(figsize=(16, 12))\n",
    "gs = GridSpec(2, 2, figure=fig)\n",
    "\n",
    "# Average Glucose Level by Stroke outcome\n",
    "ax1 = fig.add_subplot(gs[0, 0])\n",
    "sns.boxplot(\n",
    "    data=df,\n",
    "    x=\"Stroke\",\n",
    "    y=\"Avg_Glucose_Level\",\n",
    "    ax=ax1,\n",
    "    palette=\"viridis\"\n",
    ")\n",
    "ax1.set_title(\"Average Glucose Level by Stroke Outcome\", fontsize=12)\n",
    "\n",
    "# Age distribution by Stroke outcome\n",
    "ax2 = fig.add_subplot(gs[0, 1])\n",
    "sns.boxplot(\n",
    "    data=df,\n",
    "    x=\"Stroke\",\n",
    "    y=\"Age\",\n",
    "    ax=ax2,\n",
    "    palette=\"viridis\"\n",
    ")\n",
    "ax2.set_title(\"Age Distribution by Stroke Outcome\", fontsize=12)\n",
    "\n",
    "# Stroke rate by Hypertension\n",
    "ax3 = fig.add_subplot(gs[1, 0])\n",
    "stroke_by_hypertension = df.groupby('Hypertension')['Stroke'].apply(\n",
    "    lambda x: (x == 'Yes').mean() * 100\n",
    ").reset_index()\n",
    "sns.barplot(\n",
    "    data=stroke_by_hypertension,\n",
    "    x=\"Hypertension\",\n",
    "    y=\"Stroke\",\n",
    "    ax=ax3,\n",
    "    palette=\"viridis\"\n",
    ")\n",
    "ax3.set_title(\"Stroke Rate (%) by Hypertension Status\", fontsize=12)\n",
    "ax3.set_ylabel(\"Stroke Rate (%)\")\n",
    "\n",
    "# BMI by Stroke outcome and Heart Disease status\n",
    "ax4 = fig.add_subplot(gs[1, 1])\n",
    "sns.boxplot(\n",
    "    data=df.dropna(subset=['BMI']),  # Handle missing BMI values (BMI has null values)\n",
    "    x=\"Stroke\",\n",
    "    y=\"BMI\",\n",
    "    hue=\"Heart_Disease\",\n",
    "    ax=ax4,\n",
    "    palette={\"Yes\": \"lightcoral\", \"No\": \"lightblue\"}\n",
    ")\n",
    "ax4.set_title(\"BMI by Stroke Outcome and Heart Disease Status\", fontsize=12)\n",
    "ax4.legend(title=\"Heart Disease\")\n",
    "\n",
    "plt.suptitle(\"Multi-feature Analysis for Stroke Prediction\", fontsize=16)\n",
    "plt.tight_layout()\n",
    "plt.subplots_adjust(top=0.93)\n",
    "plt.show()"
   ]
  },
  {
   "cell_type": "code",
   "execution_count": null,
   "metadata": {},
   "outputs": [],
   "source": [
    "# Stroke rates by residence type and work type\n",
    "\n",
    "plt.figure(figsize=(15, 6))\n",
    "stroke_by_residence_work = df.groupby(['Residence_Type', 'Work_Type'])['Stroke'].apply(\n",
    "    lambda x: (x == 'Yes').mean() * 100\n",
    ").reset_index()\n",
    "\n",
    "sns.barplot(\n",
    "    data=stroke_by_residence_work,\n",
    "    x=\"Residence_Type\",\n",
    "    y=\"Stroke\",\n",
    "    hue=\"Work_Type\"\n",
    ")\n",
    "plt.title(\"Stroke Rate by Residence Type and Work Type\", fontsize=14)\n",
    "plt.xlabel(\"Residence Type\", fontsize=12)\n",
    "plt.ylabel(\"Stroke Rate (%)\", fontsize=12)\n",
    "plt.legend(title=\"Work Type\")\n",
    "plt.tight_layout()\n",
    "plt.show()"
   ]
  },
  {
   "cell_type": "markdown",
   "metadata": {},
   "source": [
    "- **Association Analysis:**\n",
    "    - **Cramer's V** for visualizing the strength of associations between categorical variables\n",
    "    - **Random Forest** for feature importance analysis and visualization\n",
    "    - **Chi-Square** for target-relative feature importance analysis and visualization"
   ]
  },
  {
   "cell_type": "markdown",
   "metadata": {},
   "source": [
    "**Cramer's V:**"
   ]
  },
  {
   "cell_type": "code",
   "execution_count": null,
   "metadata": {},
   "outputs": [],
   "source": [
    "\n",
    "def cramers_v(x, y):\n",
    "    confusion_matrix = pd.crosstab(x, y)\n",
    "    chi2 = stats.chi2_contingency(confusion_matrix)[0]\n",
    "    n = confusion_matrix.sum().sum()\n",
    "    phi2 = chi2 / n\n",
    "    r, k = confusion_matrix.shape\n",
    "    phi2corr = max(0, phi2 - ((k-1)*(r-1))/(n-1))\n",
    "    rcorr = r - ((r-1)**2)/(n-1)\n",
    "    kcorr = k - ((k-1)**2)/(n-1)\n",
    "    \n",
    "    # This handles division by zero\n",
    "    denominator = min((kcorr-1), (rcorr-1))\n",
    "    if denominator == 0:\n",
    "        return 0\n",
    "    return np.sqrt(phi2corr / denominator)"
   ]
  },
  {
   "cell_type": "code",
   "execution_count": null,
   "metadata": {},
   "outputs": [],
   "source": [
    "def calculate_cramers_v(df, categorical_columns):\n",
    "    \n",
    "    corr_matrix = pd.DataFrame(index=categorical_columns, columns=categorical_columns)\n",
    "        \n",
    "    # Fill corr matrix\n",
    "    for i in categorical_columns:\n",
    "        for j in categorical_columns:\n",
    "            if i == j:\n",
    "                corr_matrix.loc[i, j] = 1.0\n",
    "            else:\n",
    "                corr_matrix.loc[i, j] = cramers_v(df[i], df[j])\n",
    "    \n",
    "    return corr_matrix.astype(float)  # Convert to float because we need it for heatmap"
   ]
  },
  {
   "cell_type": "code",
   "execution_count": null,
   "metadata": {},
   "outputs": [],
   "source": [
    "feature_associations = []\n",
    "\n",
    "# Calculate Cramer's V correlations\n",
    "cat_corr = calculate_cramers_v(df, categorical_features)\n",
    "\n",
    "# Get top associations\n",
    "flat_corr = [(i, j, cat_corr.loc[i, j]) for i in categorical_features for j in categorical_features if i != j]\n",
    "sorted_associations = sorted(flat_corr, key=lambda x: x[2], reverse=True)[:10]\n",
    "\n",
    "# Format and store the associations\n",
    "for i, j, v in sorted_associations:\n",
    "    feature_associations.append(f\"{i} - {j}: ({v:.4f})\")"
   ]
  },
  {
   "cell_type": "code",
   "execution_count": null,
   "metadata": {},
   "outputs": [],
   "source": [
    "print(\"Top 5 strongest associations:\")\n",
    "print_list(feature_associations)"
   ]
  },
  {
   "cell_type": "code",
   "execution_count": null,
   "metadata": {},
   "outputs": [],
   "source": [
    "plt.figure(figsize=(25, 15))\n",
    "sns.heatmap(cat_corr, annot=True, fmt='.1f', cmap='YlGnBu', vmin=0, vmax=1, linewidths=0.5, cbar_kws={'label': 'Cramér\\'s V'})\n",
    "plt.title(\"Categorical Variables Association (Cramér's V)\", fontsize=14)\n",
    "plt.xticks(rotation=45, ha='right')\n",
    "plt.tight_layout()\n",
    "plt.show()"
   ]
  },
  {
   "cell_type": "markdown",
   "metadata": {},
   "source": [
    "**Random Forest:**"
   ]
  },
  {
   "cell_type": "code",
   "execution_count": null,
   "metadata": {},
   "outputs": [],
   "source": [
    "# (It's just for quickly checking feature importance)\n",
    "\n",
    "df_clean = df.copy()\n",
    "\n",
    "df_clean = df_clean.drop(columns=['Patient_ID'])\n",
    "X = df_clean.drop(columns=['Stroke'])\n",
    "y = df_clean['Stroke']\n",
    "\n",
    "# Encode cat features\n",
    "X = X.apply(lambda col: LabelEncoder().fit_transform(col) if col.dtype == 'object' else col)\n",
    "\n",
    "# Train model\n",
    "model = RandomForestClassifier()\n",
    "model.fit(X, y)\n",
    "\n",
    "# Get feature importances\n",
    "importances = pd.DataFrame({'Feature': X.columns, 'Importance': model.feature_importances_})\n",
    "importances = importances.sort_values(by='Importance', ascending=False)\n",
    "\n",
    "del df_clean  # Free up memory (As we don't need it anymore)"
   ]
  },
  {
   "cell_type": "code",
   "execution_count": null,
   "metadata": {},
   "outputs": [],
   "source": [
    "plt.figure(figsize=(10, 5))\n",
    "sns.barplot(x='Importance', y='Feature', data=importances, palette='viridis')\n",
    "plt.xlabel(\"Importance Score\")\n",
    "plt.ylabel(\"Features\")\n",
    "plt.title(\"Feature Importance (RandomForest)\")\n",
    "plt.show()\n",
    "\n",
    "# Display feature importances\n",
    "df_feature_importances(importances)"
   ]
  },
  {
   "cell_type": "markdown",
   "metadata": {},
   "source": [
    "**Chi-Square:**"
   ]
  },
  {
   "cell_type": "code",
   "execution_count": null,
   "metadata": {},
   "outputs": [],
   "source": [
    "def chi_square_importance(df, target, categorical_features_list):\n",
    "    results = {'Feature': [], 'Chi-Square': [], 'P-Value': []}\n",
    "    \n",
    "    cat_features = categorical_features_list.copy()\n",
    "    cat_features.remove(target)  # Excluding 'Stroke' as it's our target variable\n",
    "\n",
    "    for feature in cat_features:\n",
    "        contingency = pd.crosstab(df[feature], df[target])\n",
    "        chi2, p, _, _ = chi2_contingency(contingency)\n",
    "        \n",
    "        results['Feature'].append(feature)\n",
    "        results['Chi-Square'].append(chi2)\n",
    "        results['P-Value'].append(p)\n",
    "    \n",
    "    results_df = pd.DataFrame(results)\n",
    "    results_df = results_df.sort_values('Chi-Square', ascending=False)\n",
    "    \n",
    "    return results_df"
   ]
  },
  {
   "cell_type": "code",
   "execution_count": null,
   "metadata": {},
   "outputs": [],
   "source": [
    "chi_results = chi_square_importance(df, 'Stroke', categorical_features)\n",
    "\n",
    "# Uncomment following to see all features (if you want to..)\n",
    "#chi_results.T"
   ]
  },
  {
   "cell_type": "code",
   "execution_count": null,
   "metadata": {},
   "outputs": [],
   "source": [
    "# Plot for Chi-Square scores\n",
    "sns.barplot(x=chi_results['Chi-Square'][:10], y=chi_results['Feature'][:10], palette='Blues_r') # [:10] means we'll be only showing top 10s\n",
    "plt.xlabel('Chi-Square Value')\n",
    "plt.ylabel('Feature')\n",
    "plt.title('Top 10 Categorical Features by Chi-Square Importance')\n",
    "plt.show()"
   ]
  },
  {
   "cell_type": "markdown",
   "metadata": {},
   "source": [
    "---"
   ]
  },
  {
   "cell_type": "markdown",
   "metadata": {},
   "source": [
    "## **Phase 2:** Data Preprocessing & Feature Engineering\n",
    "##### Objective: Prepare data by handling missing values, outliers, and inconsistencies."
   ]
  },
  {
   "cell_type": "markdown",
   "metadata": {},
   "source": [
    "### **Dataset Cleaning**"
   ]
  },
  {
   "cell_type": "code",
   "execution_count": null,
   "metadata": {},
   "outputs": [],
   "source": [
    "df.drop(columns=['Patient_ID'], inplace=True) # Removing this as we dont need this ones\n",
    "numerical_features.remove('Patient_ID')"
   ]
  },
  {
   "cell_type": "code",
   "execution_count": null,
   "metadata": {},
   "outputs": [],
   "source": [
    "df.drop(df[df['Gender'] == 'Other'].index, inplace=True) # There's only one entry, It wouldn't affact that much.."
   ]
  },
  {
   "cell_type": "code",
   "execution_count": null,
   "metadata": {},
   "outputs": [],
   "source": [
    "# Check for null values in each column\n",
    "null_counts = df.isnull().sum()\n",
    "columns_with_nulls = null_counts[null_counts > 0]  # This will only counts columns with null values\n",
    "total_nulls = null_counts.sum()\n",
    "\n",
    "if not columns_with_nulls.empty: print(\"Columns with null values:\\n\", columns_with_nulls)\n",
    "print(\"\\nTotal Null values in entire Dataset:\", total_nulls)\n",
    "print(\"Duplicated Rows in entire Dataset:\", df.duplicated().sum())\n"
   ]
  },
  {
   "cell_type": "markdown",
   "metadata": {},
   "source": [
    "- **Duplicates:** No duplicate rows were found in the dataset.  \n",
    "- **Handling Missing Values:**  \n",
    "  - **Approach:** K-Nearest Neighbors (KNN) Imputation\n",
    " \n"
   ]
  },
  {
   "cell_type": "code",
   "execution_count": null,
   "metadata": {},
   "outputs": [],
   "source": [
    "# KNN estimates missing values based on the nearest data points, I think it would be best if I use it here \n",
    "def KNN_Impute(df, target, correlate_features):\n",
    "\n",
    "    numeric_columns = correlate_features  # Selecting these because they may correlate with the target\n",
    "    imputer = KNNImputer(n_neighbors=5)\n",
    "\n",
    "    impute_data = df[numeric_columns].copy()\n",
    "\n",
    "    # Apply KNN imputation\n",
    "    imputed_values = imputer.fit_transform(impute_data)\n",
    "\n",
    "    # This updates target column with imputed values\n",
    "    idx = numeric_columns.index(target)\n",
    "    df[target] = imputed_values[:, idx]\n",
    "\n",
    "    return print(f\"{target} Imputation Done!\")"
   ]
  },
  {
   "cell_type": "code",
   "execution_count": null,
   "metadata": {},
   "outputs": [],
   "source": [
    "KNN_Impute(df, 'BMI', ['Age', 'Avg_Glucose_Level', 'BMI'])\n",
    "\n",
    "# To Verify imputation, Run code block (The one that checks for null values) again, (I'm too lazy to write code again..)"
   ]
  },
  {
   "cell_type": "markdown",
   "metadata": {},
   "source": [
    "- **Now, lets focus on Age:**\n",
    "    - Age is starting from 0, which is pretty unrealistic\n",
    "    - I'll use KNN Again"
   ]
  },
  {
   "cell_type": "code",
   "execution_count": null,
   "metadata": {},
   "outputs": [],
   "source": [
    "# First, Lets identify the problematic Age entries\n",
    "threshold = 10\n",
    "unrealistic_Age = df['Age'] < threshold\n",
    "print(f\"Unrealistic Age counts (Less then {threshold} Years): {unrealistic_Age.sum()}\")"
   ]
  },
  {
   "cell_type": "code",
   "execution_count": null,
   "metadata": {},
   "outputs": [],
   "source": [
    "# Removing these values\n",
    "\n",
    "df.loc[unrealistic_Age, 'Age'] = np.nan"
   ]
  },
  {
   "cell_type": "code",
   "execution_count": null,
   "metadata": {},
   "outputs": [],
   "source": [
    "KNN_Impute(df, 'Age', ['Age', 'Avg_Glucose_Level', 'BMI'])\n",
    "\n",
    "# (You know what to do next...)"
   ]
  },
  {
   "cell_type": "markdown",
   "metadata": {},
   "source": [
    "### **Outlier Detection & Cleaning**"
   ]
  },
  {
   "cell_type": "markdown",
   "metadata": {},
   "source": [
    "- For Detecting Outliers, we will use:\n",
    "    - IQR Method\n",
    "    - Z-Score Method"
   ]
  },
  {
   "cell_type": "markdown",
   "metadata": {},
   "source": [
    "**Z-Score Method**:"
   ]
  },
  {
   "cell_type": "code",
   "execution_count": null,
   "metadata": {},
   "outputs": [],
   "source": [
    "def z_score_outliers(df, column, threshold=3):\n",
    "    z_scores = stats.zscore(df[column])\n",
    "    outlier_indices = np.where(np.abs(z_scores) > threshold)[0]\n",
    "    outlier_values = df.loc[outlier_indices, column].values\n",
    "    return {\n",
    "        'column': column,\n",
    "        'method': 'Z-Score',\n",
    "        'threshold': threshold,\n",
    "        'outlier_count': len(outlier_indices),\n",
    "        'outlier_percentage': (len(outlier_indices) / len(df)) * 100,\n",
    "        'outlier_indices': outlier_indices,\n",
    "        'outlier_values': outlier_values\n",
    "    }"
   ]
  },
  {
   "cell_type": "code",
   "execution_count": null,
   "metadata": {},
   "outputs": [],
   "source": [
    "# This will create a summary DataFrame of Z-score outliers\n",
    "def z_score_summary_table(df, numerical_features, threshold=3):\n",
    "\n",
    "    results = []\n",
    "    \n",
    "    for column in numerical_features:\n",
    "        outlier_info = z_score_outliers(df, column, threshold)\n",
    "        \n",
    "        column_stats = {\n",
    "            'Feature': column,\n",
    "            'Min': df[column].min(),\n",
    "            'Max': df[column].max(),\n",
    "            'Lower Threshold': df[column].mean() - threshold * df[column].std(),\n",
    "            'Upper Threshold': df[column].mean() + threshold * df[column].std(),\n",
    "            'Outliers Count': outlier_info['outlier_count'],\n",
    "            'Outliers (%)': round(outlier_info['outlier_percentage'], 2),\n",
    "            'Range Impact': 'High' if outlier_info['outlier_percentage'] > 5 else 'Medium' if outlier_info['outlier_percentage'] > 1 else 'Low'\n",
    "        }\n",
    "        \n",
    "        results.append(column_stats)\n",
    "    \n",
    "    \n",
    "    summary_df = pd.DataFrame(results)\n",
    "    summary_df = summary_df.sort_values('Outliers (%)', ascending=False)\n",
    "    \n",
    "    # Format the numeric columns (rounding values)\n",
    "    for col in ['Min', 'Max', 'Lower Threshold', 'Upper Threshold']:\n",
    "        summary_df[col] = summary_df[col].round(2)\n",
    "\n",
    "    return summary_df"
   ]
  },
  {
   "cell_type": "code",
   "execution_count": null,
   "metadata": {},
   "outputs": [],
   "source": [
    "z_score_summary = z_score_summary_table(df, numerical_features)\n",
    "\n",
    "z_score_summary"
   ]
  },
  {
   "cell_type": "markdown",
   "metadata": {},
   "source": [
    "**IQR Method:**"
   ]
  },
  {
   "cell_type": "code",
   "execution_count": null,
   "metadata": {},
   "outputs": [],
   "source": [
    "def iqr_outliers(df, column, multiplier=1.5):\n",
    "    Q1 = df[column].quantile(0.25)\n",
    "    Q3 = df[column].quantile(0.75)\n",
    "    IQR = Q3 - Q1\n",
    "    lower_bound = Q1 - multiplier * IQR\n",
    "    upper_bound = Q3 + multiplier * IQR\n",
    "    \n",
    "    outlier_mask = (df[column] < lower_bound) | (df[column] > upper_bound)\n",
    "    outlier_indices = np.where(outlier_mask)[0]\n",
    "    outlier_values = df.loc[outlier_indices, column].values\n",
    "    \n",
    "    return {\n",
    "        'column': column,\n",
    "        'method': 'IQR',\n",
    "        'multiplier': multiplier,\n",
    "        'Q1': Q1,\n",
    "        'Q3': Q3,\n",
    "        'IQR': IQR,\n",
    "        'lower_bound': lower_bound,\n",
    "        'upper_bound': upper_bound,\n",
    "        'outlier_count': len(outlier_indices),\n",
    "        'outlier_percentage': (len(outlier_indices) / len(df)) * 100,\n",
    "        'outlier_indices': outlier_indices,\n",
    "        'outlier_values': outlier_values\n",
    "    }"
   ]
  },
  {
   "cell_type": "code",
   "execution_count": null,
   "metadata": {},
   "outputs": [],
   "source": [
    "# This code is almost same as Z-Score..\n",
    "\n",
    "def iqr_summary_table(df, numerical_features, multiplier=1.5):\n",
    "    \n",
    "    results = []\n",
    "    \n",
    "    for column in numerical_features:\n",
    "        outlier_info = iqr_outliers(df, column, multiplier)\n",
    "        \n",
    "        column_stats = {\n",
    "            'Feature': column,\n",
    "            'Min': df[column].min(),\n",
    "            'Max': df[column].max(),\n",
    "            'Q1': outlier_info['Q1'],\n",
    "            'Q3': outlier_info['Q3'],\n",
    "            'IQR': outlier_info['IQR'],\n",
    "            'Lower Bound': outlier_info['lower_bound'],\n",
    "            'Upper Bound': outlier_info['upper_bound'],\n",
    "            'Outliers Count': outlier_info['outlier_count'],\n",
    "            'Outliers (%)': round(outlier_info['outlier_percentage'], 2),\n",
    "            'Range Impact': 'High' if outlier_info['outlier_percentage'] > 5 else 'Medium' if outlier_info['outlier_percentage'] > 1 else 'Low'\n",
    "        }\n",
    "        \n",
    "        results.append(column_stats)\n",
    "    \n",
    "    summary_df = pd.DataFrame(results)\n",
    "    summary_df = summary_df.sort_values('Outliers (%)', ascending=False)\n",
    "    \n",
    "    for col in ['Min', 'Max', 'Q1', 'Q3', 'IQR', 'Lower Bound', 'Upper Bound']:\n",
    "        summary_df[col] = summary_df[col].round(2)\n",
    "\n",
    "    return summary_df"
   ]
  },
  {
   "cell_type": "code",
   "execution_count": null,
   "metadata": {},
   "outputs": [],
   "source": [
    "iqr_summary = iqr_summary_table(df, numerical_features)\n",
    "\n",
    "# Display Df\n",
    "iqr_summary"
   ]
  },
  {
   "cell_type": "markdown",
   "metadata": {},
   "source": [
    "### **Handling Outliers**"
   ]
  },
  {
   "cell_type": "markdown",
   "metadata": {},
   "source": [
    "- To Handle Outliers, We'll Use:\n",
    "    - Winsorization"
   ]
  },
  {
   "cell_type": "code",
   "execution_count": null,
   "metadata": {},
   "outputs": [],
   "source": [
    "# Define lower and upper bounds for capping\n",
    "glucose_lower, glucose_upper = 21.98, 169.35 # (correct IQR calculation was 169.36)\n",
    "bmi_lower, bmi_upper = 9.75, 46.95\n",
    "\n",
    "# Applying Winsorization\n",
    "df['Avg_Glucose_Level'] = df['Avg_Glucose_Level'].clip(lower=glucose_lower, upper=glucose_upper)\n",
    "df['BMI'] = df['BMI'].clip(lower=bmi_lower, upper=bmi_upper)\n",
    "\n",
    "# Verify the changes, just run Z-Score & IQR again.."
   ]
  },
  {
   "cell_type": "markdown",
   "metadata": {},
   "source": [
    "---"
   ]
  },
  {
   "cell_type": "markdown",
   "metadata": {},
   "source": [
    "### **Feature Engineering**"
   ]
  },
  {
   "cell_type": "markdown",
   "metadata": {},
   "source": [
    "- We will use:\n",
    "    - Data Type Conversion\n",
    "    - Categorical Encoding\n",
    "    - Feature Creation & Transformation\n",
    "    - Pipeline Execution"
   ]
  },
  {
   "cell_type": "code",
   "execution_count": null,
   "metadata": {},
   "outputs": [],
   "source": [
    "# Lets quickly check our lists one last time\n",
    "\n",
    "print(\"Columns with Numerical Data:\")\n",
    "print_list(numerical_features)\n",
    "\n",
    "print(\"\\nColumns with Categorical Data:\")\n",
    "print_list(categorical_features)"
   ]
  },
  {
   "cell_type": "markdown",
   "metadata": {},
   "source": [
    "**Data Type Conversion:**"
   ]
  },
  {
   "cell_type": "code",
   "execution_count": null,
   "metadata": {},
   "outputs": [],
   "source": [
    "# Data Type Conversion, Convert features to appropriate data types.\n",
    "def convert_data_types(df, numerical_features_list, categorical_features_list):\n",
    "    \n",
    "    processed_df = df.copy()\n",
    "    num_features = numerical_features_list\n",
    "    cat_features = categorical_features_list\n",
    "\n",
    "    # Convert numerical features to numeric type\n",
    "    processed_df[num_features] = processed_df[num_features].apply(pd.to_numeric)\n",
    "    \n",
    "    # Convert categorical features to category type (Objects etc)\n",
    "    processed_df[cat_features] = processed_df[cat_features].astype('category')\n",
    "    \n",
    "    return processed_df"
   ]
  },
  {
   "cell_type": "markdown",
   "metadata": {},
   "source": [
    "**Categorical Encoding:**"
   ]
  },
  {
   "cell_type": "code",
   "execution_count": null,
   "metadata": {},
   "outputs": [],
   "source": [
    "def encode_categorical_features(df):\n",
    "    \n",
    "    processed_df = df.copy()\n",
    "\n",
    "\n",
    "    # Convert binary categorical variables to 0/1\n",
    "    \n",
    "    # Yes/No mapping\n",
    "    yes_no_features = ['Hypertension', 'Heart_Disease', 'Ever_Married', 'Stroke']\n",
    "    \n",
    "    for feature in yes_no_features:\n",
    "        processed_df[f'{feature}_Binary'] = processed_df[feature].map({\n",
    "            'Yes': 1, \n",
    "            'No': 0\n",
    "            }).astype(int)\n",
    "    \n",
    "    # Mapping\n",
    "    processed_df['Gender_Binary'] = processed_df['Gender'].map({\n",
    "        'Male': 0, 'Female': 1}).astype(int)\n",
    "    \n",
    "    processed_df['Residence_Type_Binary'] = processed_df['Residence_Type'].map({\n",
    "        'Urban': 0, 'Rural': 1}).astype(int)\n",
    "    \n",
    "    \n",
    "\n",
    "    # One-hot encode nominal categorical variables\n",
    "    nominal_features = ['Work_Type', 'Smoking_Status']\n",
    "    \n",
    "    processed_df = pd.get_dummies(processed_df, columns=nominal_features, \n",
    "                                drop_first=False, prefix_sep='_')\n",
    "    \n",
    "    return processed_df"
   ]
  },
  {
   "cell_type": "markdown",
   "metadata": {},
   "source": [
    "**Feature Creation & Transformation:**"
   ]
  },
  {
   "cell_type": "code",
   "execution_count": null,
   "metadata": {},
   "outputs": [],
   "source": [
    "def engineer_features(df):\n",
    "\n",
    "    processed_df = df.copy()\n",
    "    \n",
    "    # Create age groups\n",
    "    age_bins = [0, 45, 60, 75, 100]\n",
    "    age_labels = ['<45', '45-60', '61-75', '>75']\n",
    "    processed_df['Age_Group'] = pd.cut(processed_df['Age'], bins=age_bins, labels=age_labels)\n",
    "    processed_df['Age_Group'] = processed_df['Age_Group'].astype('category')\n",
    "    \n",
    "    # BMI categories\n",
    "    bmi_bins = [0, 18.5, 25, 30, 100]\n",
    "    bmi_labels = ['Underweight', 'Normal', 'Overweight', 'Obese']\n",
    "    processed_df['BMI_Category'] = pd.cut(processed_df['BMI'], \n",
    "                                         bins=bmi_bins, labels=bmi_labels)\n",
    "    processed_df['BMI_Category'] = processed_df['BMI_Category'].astype('category')\n",
    "    \n",
    "    # Create glucose level categories\n",
    "    glucose_bins = [0, 100, 126, 300]\n",
    "    glucose_labels = ['Normal', 'Prediabetic', 'Diabetic']\n",
    "    processed_df['Glucose_Category'] = pd.cut(processed_df['Avg_Glucose_Level'], \n",
    "                                            bins=glucose_bins, labels=glucose_labels)\n",
    "    processed_df['Glucose_Category'] = processed_df['Glucose_Category'].astype('category')\n",
    "    \n",
    "    # Derived risk variables\n",
    "    processed_df['Cardiovascular_Risk'] = (\n",
    "        processed_df['Hypertension_Binary'] + \n",
    "        processed_df['Heart_Disease_Binary']\n",
    "    )\n",
    "    \n",
    "    processed_df['Metabolic_Risk'] = (\n",
    "        (processed_df['BMI'] > 30).astype(int) + \n",
    "        (processed_df['Avg_Glucose_Level'] > 126).astype(int)\n",
    "    )\n",
    "    \n",
    "    # Creating some more features\n",
    "    processed_df['Age_Hypertension'] = processed_df['Age'] * processed_df['Hypertension_Binary']\n",
    "    processed_df['BMI_Glucose'] = processed_df['BMI'] * (processed_df['Avg_Glucose_Level']/100)\n",
    "    processed_df['Age_Heart'] = processed_df['Age'] * processed_df['Heart_Disease_Binary']\n",
    "    \n",
    "    processed_df['Vascular_Risk'] = (\n",
    "        (processed_df['Age'] > 60).astype(int) + \n",
    "        processed_df['Hypertension_Binary'] +\n",
    "        (processed_df['Avg_Glucose_Level'] > 110).astype(int)\n",
    "    )\n",
    "    \n",
    "    # Lets, create lifestyle risk indicator\n",
    "    smoking_risk = 0\n",
    "    if 'Smoking_Status_formerly smoked' in processed_df.columns:\n",
    "        smoking_risk += processed_df['Smoking_Status_formerly smoked']\n",
    "    if 'Smoking_Status_smokes' in processed_df.columns:\n",
    "        smoking_risk += 2 * processed_df['Smoking_Status_smokes']  # This weight current smoking more (+= 2)\n",
    "        \n",
    "    processed_df['Lifestyle_Risk'] = (\n",
    "        smoking_risk + \n",
    "        (processed_df['BMI'] > 25).astype(int)\n",
    "    )\n",
    "    \n",
    "    # One-hot encode the categorical groups (Newely created ones)\n",
    "    group_features = ['Age_Group', 'BMI_Category', 'Glucose_Category']\n",
    "    processed_df = pd.get_dummies(processed_df, columns=group_features, \n",
    "                                drop_first=False, prefix_sep='_')\n",
    "    \n",
    "    return processed_df"
   ]
  },
  {
   "cell_type": "markdown",
   "metadata": {},
   "source": [
    "**Pipeline Execution:**"
   ]
  },
  {
   "cell_type": "code",
   "execution_count": null,
   "metadata": {},
   "outputs": [],
   "source": [
    "# Get categorical and numerical features\n",
    "categorical_features = df.select_dtypes(include=['object', 'category']).columns.tolist()\n",
    "numerical_features = df.select_dtypes(include=['int64', 'float']).columns.tolist()\n",
    "\n",
    "print(\"Columns with Numerical Data:\")\n",
    "print_list(numerical_features)\n",
    "\n",
    "print(\"\\nColumns with Categorical Data:\")\n",
    "print_list(categorical_features)\n",
    "\n",
    "print(\"\\nColumns Info:\")\n",
    "df_info(df)"
   ]
  },
  {
   "cell_type": "code",
   "execution_count": null,
   "metadata": {},
   "outputs": [],
   "source": [
    "def preprocess_stroke_data(df, numerical_features, categorical_features):\n",
    "    \n",
    "    # Now, lets apply each  step sequentially\n",
    "    df_typed = convert_data_types(df, numerical_features, categorical_features)\n",
    "    df_encoded = encode_categorical_features(df_typed)\n",
    "    df_processed = engineer_features(df_encoded)\n",
    "    \n",
    "    return df_processed"
   ]
  },
  {
   "cell_type": "code",
   "execution_count": null,
   "metadata": {},
   "outputs": [],
   "source": [
    "# Process...\n",
    "processed_data = preprocess_stroke_data(df, numerical_features, categorical_features)"
   ]
  },
  {
   "cell_type": "code",
   "execution_count": null,
   "metadata": {},
   "outputs": [],
   "source": [
    "df_info(processed_data)"
   ]
  },
  {
   "cell_type": "code",
   "execution_count": null,
   "metadata": {},
   "outputs": [],
   "source": [
    "# Save as a Parquet file\n",
    "processed_data.to_parquet(\"Datasets\\\\Processed_Stroke_Dataset.parquet\", index=False)"
   ]
  },
  {
   "cell_type": "markdown",
   "metadata": {},
   "source": [
    "___\n",
    "---"
   ]
  },
  {
   "cell_type": "markdown",
   "metadata": {},
   "source": [
    "## **Phase 3:** Model Development & Evaluation\n",
    "##### Objective: Prepare data for M.L then develope and evalute the Machine Learning Models."
   ]
  },
  {
   "cell_type": "markdown",
   "metadata": {},
   "source": [
    "**Data Preparation:**"
   ]
  },
  {
   "cell_type": "code",
   "execution_count": null,
   "metadata": {},
   "outputs": [],
   "source": [
    "# This loads dataset from parquet file (In case we need it 😁)\n",
    "processed_data = Load_Dataset('Datasets\\Processed_Stroke_Dataset.parquet')"
   ]
  },
  {
   "cell_type": "code",
   "execution_count": null,
   "metadata": {},
   "outputs": [],
   "source": [
    "processed_data.head(3)"
   ]
  },
  {
   "cell_type": "code",
   "execution_count": null,
   "metadata": {},
   "outputs": [],
   "source": [
    "def prepare_for_ml(processed_df, primary_target='Stroke_Binary', test_size=0.2, random_state=42):\n",
    "    \n",
    "    # Identify features by patterns\n",
    "    binary_features = [col for col in processed_df.columns if col.endswith('_Binary')]\n",
    "    \n",
    "    onehot_features = [col for col in processed_df.columns \n",
    "                      if ('Work_Type_' in col or 'Smoking_Status_' in col \n",
    "                         or 'Age_Group_' in col or 'BMI_Category_' in col\n",
    "                         or 'Glucose_Category_' in col)]\n",
    "    \n",
    "    derived_features = ['Cardiovascular_Risk', 'Metabolic_Risk', 'Vascular_Risk', \n",
    "                       'Lifestyle_Risk', 'Age_Hypertension', 'BMI_Glucose', 'Age_Heart']\n",
    "    \n",
    "    # Combine all..\n",
    "    keep_features = binary_features + onehot_features + derived_features\n",
    "    \n",
    "    \n",
    "    keep_features.remove(primary_target)\n",
    "    \n",
    "    # Extract target and features to x, y\n",
    "    y = processed_df[primary_target].copy()\n",
    "    X = processed_df[keep_features].copy()\n",
    "    \n",
    "    # Split data\n",
    "    X_train, X_test, y_train, y_test = train_test_split(\n",
    "        X, y, test_size=test_size, random_state=random_state, stratify=y\n",
    "    )\n",
    "    \n",
    "    X_train_scaled = X_train.copy()\n",
    "    X_test_scaled = X_test.copy()\n",
    "    \n",
    "    # Scale numerical features\n",
    "    num_features = X_train.select_dtypes(include=['int64', 'float64']).columns.tolist()\n",
    "    scaler = StandardScaler()\n",
    "    \n",
    "    X_train_scaled[num_features] = scaler.fit_transform(X_train[num_features])\n",
    "    X_test_scaled[num_features] = scaler.transform(X_test[num_features])\n",
    "    \n",
    "    return X_train_scaled, X_test_scaled, y_train, y_test, scaler"
   ]
  },
  {
   "cell_type": "code",
   "execution_count": null,
   "metadata": {},
   "outputs": [],
   "source": [
    "# Prepare... (This one is important, I'll be using this in later parts)\n",
    "X_train, X_test, y_train, y_test, scaler = prepare_for_ml(processed_data, primary_target='Stroke_Binary')"
   ]
  },
  {
   "cell_type": "markdown",
   "metadata": {},
   "source": [
    "**Pre-Modeling Checks:**"
   ]
  },
  {
   "cell_type": "code",
   "execution_count": null,
   "metadata": {},
   "outputs": [],
   "source": [
    "# Quick feature importance check using Random Forest\n",
    "\n",
    "# Train a simple model\n",
    "rf = RandomForestClassifier(n_estimators=100, random_state=42)\n",
    "rf.fit(X_train, y_train)\n",
    "\n",
    "# Get feature importances\n",
    "importances = rf.feature_importances_\n",
    "indices = np.argsort(importances)[::-1]\n",
    "\n",
    "# Print top 10 features\n",
    "print(\"Top 10 most important features:\")\n",
    "for i in range(min(10, X_train.shape[1])):\n",
    "    print(f\"{i+1}. {X_train.columns[indices[i]]}: {importances[indices[i]]:.4f}\")"
   ]
  },
  {
   "cell_type": "code",
   "execution_count": null,
   "metadata": {},
   "outputs": [],
   "source": [
    "# Define cross-validation strategy\n",
    "cv = StratifiedKFold(n_splits=5, shuffle=True, random_state=42)\n",
    "\n",
    "\n",
    "# Initialize metrics storage\n",
    "cv_scores = {\n",
    "    'accuracy': [],\n",
    "    'roc_auc': []\n",
    "}\n",
    "\n",
    "# Simple model for testing CV\n",
    "model = LogisticRegression(max_iter=1000)\n",
    "\n",
    "# Perform cross-validation\n",
    "for train_idx, val_idx in cv.split(X_train, y_train):\n",
    "    # Split data\n",
    "    X_cv_train, X_cv_val = X_train.iloc[train_idx], X_train.iloc[val_idx]\n",
    "    y_cv_train, y_cv_val = y_train.iloc[train_idx], y_train.iloc[val_idx]\n",
    "    \n",
    "    # Train model\n",
    "    model.fit(X_cv_train, y_cv_train)\n",
    "    \n",
    "    # Evaluate\n",
    "    y_pred = model.predict(X_cv_val)\n",
    "    y_pred_proba = model.predict_proba(X_cv_val)[:, 1]\n",
    "    \n",
    "    # Store metrics\n",
    "    cv_scores['accuracy'].append(accuracy_score(y_cv_val, y_pred))\n",
    "    cv_scores['roc_auc'].append(roc_auc_score(y_cv_val, y_pred_proba))\n",
    "\n",
    "# Print results\n",
    "print(f\"Cross-validation results (5-fold):\")\n",
    "print(f\"Accuracy: {np.mean(cv_scores['accuracy']):.4f} ± {np.std(cv_scores['accuracy']):.4f}\")\n",
    "print(f\"ROC-AUC: {np.mean(cv_scores['roc_auc']):.4f} ± {np.std(cv_scores['roc_auc']):.4f}\")"
   ]
  },
  {
   "cell_type": "code",
   "execution_count": null,
   "metadata": {},
   "outputs": [],
   "source": [
    "# Check correlation among features\n",
    "correlation_matrix = X_train.corr()\n",
    "plt.figure(figsize=(12, 10))\n",
    "sns.heatmap(correlation_matrix, annot=False, cmap='coolwarm')\n",
    "plt.title('Feature Correlation Matrix')\n",
    "plt.show()"
   ]
  },
  {
   "cell_type": "markdown",
   "metadata": {},
   "source": [
    "---"
   ]
  },
  {
   "cell_type": "markdown",
   "metadata": {},
   "source": [
    "## **Model Development**"
   ]
  },
  {
   "cell_type": "markdown",
   "metadata": {},
   "source": [
    "### **Initial Setup**"
   ]
  },
  {
   "cell_type": "markdown",
   "metadata": {},
   "source": [
    "#### **Feature Selection Functions**"
   ]
  },
  {
   "cell_type": "code",
   "execution_count": null,
   "metadata": {},
   "outputs": [],
   "source": [
    "# Use all features for comprehensive analysis\n",
    "\n",
    "def select_all_features(X_train, X_test):\n",
    "    print(f\"Using all {X_train.shape[1]} features\")\n",
    "    return X_train, X_test, X_train.columns.tolist()"
   ]
  },
  {
   "cell_type": "code",
   "execution_count": null,
   "metadata": {},
   "outputs": [],
   "source": [
    "# Select clinically relevant features for stroke prediction\n",
    "\n",
    "def select_clinical_features(X_train, X_test):\n",
    "    clinical_features = [\n",
    "        # Core features\n",
    "        'Age_Hypertension', 'Age_Heart', 'BMI_Glucose',\n",
    "        \n",
    "        # Binary ones..\n",
    "        'Gender_Binary', 'Hypertension_Binary', 'Heart_Disease_Binary',\n",
    "        'Ever_Married_Binary', \n",
    "        \n",
    "        # Risk scores and derived features (That I created Earlier)\n",
    "        'Cardiovascular_Risk', 'Metabolic_Risk', 'Vascular_Risk', 'Lifestyle_Risk'\n",
    "    ]\n",
    "    \n",
    "    available_features = [f for f in clinical_features if f in X_train.columns]\n",
    "    print(f\"Selected {len(available_features)} clinical features\")\n",
    "    \n",
    "    return X_train[available_features], X_test[available_features], available_features"
   ]
  },
  {
   "cell_type": "markdown",
   "metadata": {},
   "source": [
    "#### **Class Balancing Functions**\n",
    " There's Serve class imbalance, Lets first define different approaches to handle this"
   ]
  },
  {
   "cell_type": "markdown",
   "metadata": {},
   "source": [
    "**SMOTE:**"
   ]
  },
  {
   "cell_type": "code",
   "execution_count": null,
   "metadata": {},
   "outputs": [],
   "source": [
    "def balance_with_smote(X_train, y_train, random_state=42):\n",
    "    smote = SMOTE(random_state=random_state)\n",
    "    X_train_balanced, y_train_balanced = smote.fit_resample(X_train, y_train)\n",
    "    print(f\"Original class distribution: {np.bincount(y_train)}\")\n",
    "    print(f\"SMOTE class distribution: {np.bincount(y_train_balanced)}\")\n",
    "    return X_train_balanced, y_train_balanced"
   ]
  },
  {
   "cell_type": "markdown",
   "metadata": {},
   "source": [
    "**ADASYN:**"
   ]
  },
  {
   "cell_type": "code",
   "execution_count": null,
   "metadata": {},
   "outputs": [],
   "source": [
    "def balance_with_adasyn(X_train, y_train, random_state=42):\n",
    "    adasyn = ADASYN(random_state=random_state)\n",
    "    X_train_balanced, y_train_balanced = adasyn.fit_resample(X_train, y_train)\n",
    "    print(f\"Original class distribution: {np.bincount(y_train)}\")\n",
    "    print(f\"ADASYN class distribution: {np.bincount(y_train_balanced)}\")\n",
    "    return X_train_balanced, y_train_balanced"
   ]
  },
  {
   "cell_type": "markdown",
   "metadata": {},
   "source": [
    "**SMOTETomek**"
   ]
  },
  {
   "cell_type": "code",
   "execution_count": null,
   "metadata": {},
   "outputs": [],
   "source": [
    "# This combines over and undersampling..\n",
    "\n",
    "def balance_with_smotetomek(X_train, y_train, random_state=42):\n",
    "    smotetomek = SMOTETomek(random_state=random_state)\n",
    "    X_train_balanced, y_train_balanced = smotetomek.fit_resample(X_train, y_train)\n",
    "    print(f\"Original class distribution: {np.bincount(y_train)}\")\n",
    "    print(f\"SMOTETomek class distribution: {np.bincount(y_train_balanced)}\")\n",
    "    return X_train_balanced, y_train_balanced"
   ]
  },
  {
   "cell_type": "markdown",
   "metadata": {},
   "source": [
    "### **Models Definations**"
   ]
  },
  {
   "cell_type": "markdown",
   "metadata": {},
   "source": [
    "**- Logistic Regression:**"
   ]
  },
  {
   "cell_type": "code",
   "execution_count": null,
   "metadata": {},
   "outputs": [],
   "source": [
    "def train_logistic_regression(X_train, y_train, C=0.1, class_weight='balanced', random_state=42):\n",
    "\n",
    "    model = LogisticRegression(\n",
    "        C=C,\n",
    "        penalty='l2',\n",
    "        solver='liblinear',\n",
    "        max_iter=2000,\n",
    "        class_weight=class_weight,\n",
    "        random_state=random_state\n",
    "    )\n",
    "    model.fit(X_train, y_train)\n",
    "    return model"
   ]
  },
  {
   "cell_type": "markdown",
   "metadata": {},
   "source": [
    "**- Random Forest:**"
   ]
  },
  {
   "cell_type": "code",
   "execution_count": null,
   "metadata": {},
   "outputs": [],
   "source": [
    "def train_random_forest(X_train, y_train, n_estimators=100, max_depth=None, \n",
    "                        class_weight='balanced', random_state=42):\n",
    "\n",
    "    model = RandomForestClassifier(\n",
    "        n_estimators=n_estimators,\n",
    "        max_depth=max_depth,\n",
    "        class_weight=class_weight,\n",
    "        random_state=random_state,\n",
    "        n_jobs=-1\n",
    "    )\n",
    "    model.fit(X_train, y_train)\n",
    "    return model"
   ]
  },
  {
   "cell_type": "markdown",
   "metadata": {},
   "source": [
    "**- XGBoost:**"
   ]
  },
  {
   "cell_type": "code",
   "execution_count": null,
   "metadata": {},
   "outputs": [],
   "source": [
    "def train_xgboost(X_train, y_train, learning_rate=0.1, max_depth=6, \n",
    "                  scale_pos_weight=None, random_state=42):\n",
    "\n",
    "    if scale_pos_weight is None:\n",
    "        # Calculate imbalance ratio if not provided\n",
    "        scale_pos_weight = (y_train == 0).sum() / (y_train == 1).sum()\n",
    "    \n",
    "    model = XGBClassifier(\n",
    "        learning_rate=learning_rate,\n",
    "        max_depth=max_depth,\n",
    "        scale_pos_weight=scale_pos_weight,\n",
    "        random_state=random_state,\n",
    "        use_label_encoder=False,\n",
    "        eval_metric='logloss'\n",
    "    )\n",
    "    model.fit(X_train, y_train)\n",
    "    return model"
   ]
  },
  {
   "cell_type": "markdown",
   "metadata": {},
   "source": [
    "**- SVM**"
   ]
  },
  {
   "cell_type": "code",
   "execution_count": null,
   "metadata": {},
   "outputs": [],
   "source": [
    "def train_svm(X_train, y_train, C=1.0, kernel='rbf', class_weight='balanced', random_state=42):\n",
    "\n",
    "    model = SVC(\n",
    "        C=C,\n",
    "        kernel=kernel,\n",
    "        probability=True,\n",
    "        class_weight=class_weight,\n",
    "        random_state=random_state\n",
    "    )\n",
    "    model.fit(X_train, y_train)\n",
    "    return model"
   ]
  },
  {
   "cell_type": "markdown",
   "metadata": {},
   "source": [
    "### **Model Evaluation**"
   ]
  },
  {
   "cell_type": "code",
   "execution_count": null,
   "metadata": {},
   "outputs": [],
   "source": [
    "# This function just displays results of a model\n",
    "\n",
    "def evaluate_model(model, X_test, y_test, model_name=\"Model\"):\n",
    "    \n",
    "    # Get predictions\n",
    "    y_pred = model.predict(X_test)\n",
    "    y_pred_proba = model.predict_proba(X_test)[:, 1]\n",
    "    \n",
    "    # Calculate core metrics (look in list)\n",
    "    metrics = {\n",
    "        'Accuracy': accuracy_score(y_test, y_pred),\n",
    "        'Precision': precision_score(y_test, y_pred),\n",
    "        'Recall': recall_score(y_test, y_pred),\n",
    "        'Specificity': recall_score(y_test, y_pred, pos_label=0),\n",
    "        'F1 Score': f1_score(y_test, y_pred),\n",
    "        'ROC_AUC': roc_auc_score(y_test, y_pred_proba)\n",
    "    }\n",
    "    \n",
    "    # Calculate PR-AUC (Precision-Recall AUC)\n",
    "    precision, recall, _ = precision_recall_curve(y_test, y_pred_proba)\n",
    "    metrics['PR_AUC'] = auc(recall, precision)\n",
    "    \n",
    "    # Confusion Matrix\n",
    "    cm = confusion_matrix(y_test, y_pred)\n",
    "    \n",
    "    # Display results using the helper functions (If you're curious, it's defined in setup file)\n",
    "    display_metrics(metrics, model_name)\n",
    "    \n",
    "    return metrics, y_pred, y_pred_proba, cm"
   ]
  },
  {
   "cell_type": "markdown",
   "metadata": {},
   "source": [
    "### **Pipleline Handling**"
   ]
  },
  {
   "cell_type": "code",
   "execution_count": null,
   "metadata": {},
   "outputs": [],
   "source": [
    "# This is the main function, we'll be using this to easily train all models etc\n",
    "\n",
    "def run_model_pipeline(X_train, y_train, X_test, y_test, \n",
    "                       feature_selection='clinical', \n",
    "                       balancing_method='smote', \n",
    "                       model_type='logistic', \n",
    "                       random_state=42):\n",
    "    \n",
    "    # Select features\n",
    "    if feature_selection == 'clinical':\n",
    "        X_train_selected, X_test_selected, selected_features = select_clinical_features(X_train, X_test)\n",
    "    else:\n",
    "        X_train_selected, X_test_selected, selected_features = select_all_features(X_train, X_test)\n",
    "    \n",
    "    # Balance classes\n",
    "    if balancing_method == 'smote':\n",
    "        X_train_balanced, y_train_balanced = balance_with_smote(X_train_selected, y_train, random_state)\n",
    "    elif balancing_method == 'adasyn':\n",
    "        X_train_balanced, y_train_balanced = balance_with_adasyn(X_train_selected, y_train, random_state)\n",
    "    elif balancing_method == 'smotetomek':\n",
    "        X_train_balanced, y_train_balanced = balance_with_smotetomek(X_train_selected, y_train, random_state)\n",
    "    else:\n",
    "        X_train_balanced, y_train_balanced = X_train_selected, y_train\n",
    "        print(\"No balancing applied\")\n",
    "    \n",
    "    model_name = ''\n",
    "\n",
    "    # Train model\n",
    "    if model_type == 'logistic':\n",
    "        model = train_logistic_regression(X_train_balanced, y_train_balanced, random_state=random_state)\n",
    "        model_name = 'Logistic Resgrssion'\n",
    "        \n",
    "    elif model_type == 'random_forest':\n",
    "        model = train_random_forest(X_train_balanced, y_train_balanced, random_state=random_state)\n",
    "        model_name = 'Random Forest'\n",
    "        \n",
    "    elif model_type == 'xgboost':\n",
    "        model = train_xgboost(X_train_balanced, y_train_balanced, random_state=random_state)\n",
    "        model_name = 'XGBoost'\n",
    "        \n",
    "    elif model_type == 'svm':\n",
    "        model = train_svm(X_train_balanced, y_train_balanced, random_state=random_state)\n",
    "        model_name = 'SVM'\n",
    "    \n",
    "    # Evaluate model\n",
    "    metrics, y_pred, y_pred_proba, cm = evaluate_model(model, X_test_selected, y_test, f\"{model_name}\")\n",
    "    \n",
    "    \n",
    "    # Return results\n",
    "    results = {\n",
    "        'metrics': metrics,\n",
    "        'probabilities': y_pred_proba,\n",
    "        'confusion_matrix': cm,\n",
    "    }\n",
    "    \n",
    "    return results"
   ]
  },
  {
   "cell_type": "code",
   "execution_count": null,
   "metadata": {},
   "outputs": [],
   "source": [
    "# I'm just writing this for refrence, No need to run it, as we have already executed this previously\n",
    "\n",
    "# X_train, X_test, y_train, y_test, scaler = prepare_for_ml(processed_data, primary_target='Stroke_Binary')"
   ]
  },
  {
   "cell_type": "markdown",
   "metadata": {},
   "source": [
    "### **Model Training**"
   ]
  },
  {
   "cell_type": "markdown",
   "metadata": {},
   "source": [
    "**- Logistic Regression:**"
   ]
  },
  {
   "cell_type": "code",
   "execution_count": null,
   "metadata": {},
   "outputs": [],
   "source": [
    "logistic_results = run_model_pipeline(X_train, y_train, X_test, y_test, \n",
    "                       feature_selection='all', \n",
    "                       balancing_method='smote', \n",
    "                       model_type='logistic', \n",
    "                       random_state=74)"
   ]
  },
  {
   "cell_type": "markdown",
   "metadata": {},
   "source": [
    "**- Random Forest:**"
   ]
  },
  {
   "cell_type": "code",
   "execution_count": null,
   "metadata": {},
   "outputs": [],
   "source": [
    "random_forest_results = run_model_pipeline(X_train, y_train, X_test, y_test, \n",
    "                       feature_selection='all', \n",
    "                       balancing_method='adasyn', \n",
    "                       model_type='random_forest', \n",
    "                       random_state=42)"
   ]
  },
  {
   "cell_type": "markdown",
   "metadata": {},
   "source": [
    "**- XGBoost:**"
   ]
  },
  {
   "cell_type": "code",
   "execution_count": null,
   "metadata": {},
   "outputs": [],
   "source": [
    "xgboost_results = run_model_pipeline(X_train, y_train, X_test, y_test, \n",
    "                       feature_selection='clinical', \n",
    "                       balancing_method='none', \n",
    "                       model_type='xgboost', \n",
    "                       random_state=42)"
   ]
  },
  {
   "cell_type": "markdown",
   "metadata": {},
   "source": [
    "**- SVM:**"
   ]
  },
  {
   "cell_type": "code",
   "execution_count": null,
   "metadata": {},
   "outputs": [],
   "source": [
    "svm_results = run_model_pipeline(X_train, y_train, X_test, y_test, \n",
    "                       feature_selection='all', \n",
    "                       balancing_method='smotetomek', \n",
    "                       model_type='svm', \n",
    "                       random_state=42)"
   ]
  },
  {
   "cell_type": "code",
   "execution_count": null,
   "metadata": {},
   "outputs": [],
   "source": [
    "# I'll use this in Performance Analysis\n",
    "\n",
    "model_results = {\n",
    "    'Logistic Regression': logistic_results,\n",
    "    'Random Forest': random_forest_results,\n",
    "    'XGBoost': xgboost_results,\n",
    "    'SVM': svm_results\n",
    "}"
   ]
  },
  {
   "cell_type": "code",
   "execution_count": null,
   "metadata": {},
   "outputs": [],
   "source": [
    "model_results"
   ]
  },
  {
   "cell_type": "markdown",
   "metadata": {},
   "source": [
    "---"
   ]
  },
  {
   "cell_type": "markdown",
   "metadata": {},
   "source": [
    "## **Phase 4:**  **Performance Analysis**"
   ]
  },
  {
   "cell_type": "markdown",
   "metadata": {},
   "source": [
    "**ROC Curves:**"
   ]
  },
  {
   "cell_type": "code",
   "execution_count": null,
   "metadata": {},
   "outputs": [],
   "source": [
    "plot_roc_curves(y_test, model_results)"
   ]
  },
  {
   "cell_type": "markdown",
   "metadata": {},
   "source": [
    "**Precision-Recall Curves:**"
   ]
  },
  {
   "cell_type": "code",
   "execution_count": null,
   "metadata": {},
   "outputs": [],
   "source": [
    "plot_pr_curves(y_test, model_results)"
   ]
  },
  {
   "cell_type": "markdown",
   "metadata": {},
   "source": [
    "**Metric Comparisons:**"
   ]
  },
  {
   "cell_type": "code",
   "execution_count": null,
   "metadata": {},
   "outputs": [],
   "source": [
    "plot_metrics_comparison(model_results)"
   ]
  },
  {
   "cell_type": "markdown",
   "metadata": {},
   "source": [
    "**Confusion Matrices:**"
   ]
  },
  {
   "cell_type": "code",
   "execution_count": null,
   "metadata": {},
   "outputs": [],
   "source": [
    "plot_confusion_matrices(model_results)"
   ]
  },
  {
   "cell_type": "code",
   "execution_count": null,
   "metadata": {},
   "outputs": [],
   "source": []
  }
 ],
 "metadata": {
  "kernelspec": {
   "display_name": ".venv",
   "language": "python",
   "name": "python3"
  },
  "language_info": {
   "codemirror_mode": {
    "name": "ipython",
    "version": 3
   },
   "file_extension": ".py",
   "mimetype": "text/x-python",
   "name": "python",
   "nbconvert_exporter": "python",
   "pygments_lexer": "ipython3",
   "version": "3.13.1"
  }
 },
 "nbformat": 4,
 "nbformat_minor": 2
}
